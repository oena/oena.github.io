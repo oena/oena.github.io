{
 "cells": [
  {
   "cell_type": "markdown",
   "metadata": {},
   "source": [
    "# Using the `requests` library with the Star Wars API \n",
    "\n",
    "Today, I'll be practicing using the `requests` library by using the library to get data from the Star Wars API. Our eventual goal is to list the films the oldest person/robot/alien was in; for this, we'll need the names, ages, and films from the API's [People resource](https://swapi.dev/documentation#people). \n",
    "\n",
    "## 0. Setup"
   ]
  },
  {
   "cell_type": "code",
   "execution_count": 1,
   "metadata": {},
   "outputs": [],
   "source": [
    "import requests\n",
    "import pandas as pd\n",
    "import os \n",
    "import re"
   ]
  },
  {
   "cell_type": "markdown",
   "metadata": {},
   "source": [
    "## 1. Use `requests` to download all people from the Star Wars REST API \n",
    "\n",
    "Information about the API is available [here](https://swapi.dev/documentation); to start, we'll use `requests` `get` method to obtain the data. \n",
    "\n",
    "For starters, let's get the people data: "
   ]
  },
  {
   "cell_type": "code",
   "execution_count": 2,
   "metadata": {},
   "outputs": [],
   "source": [
    "base_url = \"http://swapi.dev/api\"\n",
    "people_suffix = \"people\""
   ]
  },
  {
   "cell_type": "code",
   "execution_count": 3,
   "metadata": {},
   "outputs": [],
   "source": [
    "response = requests.get(os.path.join(base_url, people_suffix))\n",
    "data = response.json() # get json data "
   ]
  },
  {
   "cell_type": "code",
   "execution_count": 4,
   "metadata": {},
   "outputs": [
    {
     "data": {
      "text/plain": [
       "dict_keys(['count', 'next', 'previous', 'results'])"
      ]
     },
     "execution_count": 4,
     "metadata": {},
     "output_type": "execute_result"
    }
   ],
   "source": [
    "# Look at available keys\n",
    "data.keys()"
   ]
  },
  {
   "cell_type": "markdown",
   "metadata": {},
   "source": [
    "It seems like what we're interested in are the results. Let's look at the first result:"
   ]
  },
  {
   "cell_type": "code",
   "execution_count": 5,
   "metadata": {},
   "outputs": [
    {
     "data": {
      "text/plain": [
       "{'name': 'Luke Skywalker',\n",
       " 'height': '172',\n",
       " 'mass': '77',\n",
       " 'hair_color': 'blond',\n",
       " 'skin_color': 'fair',\n",
       " 'eye_color': 'blue',\n",
       " 'birth_year': '19BBY',\n",
       " 'gender': 'male',\n",
       " 'homeworld': 'http://swapi.dev/api/planets/1/',\n",
       " 'films': ['http://swapi.dev/api/films/1/',\n",
       "  'http://swapi.dev/api/films/2/',\n",
       "  'http://swapi.dev/api/films/3/',\n",
       "  'http://swapi.dev/api/films/6/'],\n",
       " 'species': [],\n",
       " 'vehicles': ['http://swapi.dev/api/vehicles/14/',\n",
       "  'http://swapi.dev/api/vehicles/30/'],\n",
       " 'starships': ['http://swapi.dev/api/starships/12/',\n",
       "  'http://swapi.dev/api/starships/22/'],\n",
       " 'created': '2014-12-09T13:50:51.644000Z',\n",
       " 'edited': '2014-12-20T21:17:56.891000Z',\n",
       " 'url': 'http://swapi.dev/api/people/1/'}"
      ]
     },
     "execution_count": 5,
     "metadata": {},
     "output_type": "execute_result"
    }
   ],
   "source": [
    "data[\"results\"][0]"
   ]
  },
  {
   "cell_type": "markdown",
   "metadata": {},
   "source": [
    "From here, we see that we'll eventually need to download the film informations from the provided URLs. However, it probably makes sense to only do that for the oldest person (since that's the only entity's film information we're actually interested in). \n",
    "\n",
    "So, let's start by identifying the oldest person/alien/robot. \n",
    "\n",
    "## 2. Identify oldest person/alien/robot\n",
    "\n",
    "First, let's start by getting all the `name` and `birth_year` values for each Person entry: "
   ]
  },
  {
   "cell_type": "code",
   "execution_count": 6,
   "metadata": {},
   "outputs": [],
   "source": [
    "names_and_ages_dict = {i[\"name\"]: i[\"birth_year\"] for i in data[\"results\"]}"
   ]
  },
  {
   "cell_type": "code",
   "execution_count": 7,
   "metadata": {},
   "outputs": [
    {
     "data": {
      "text/plain": [
       "{'Luke Skywalker': '19BBY',\n",
       " 'C-3PO': '112BBY',\n",
       " 'R2-D2': '33BBY',\n",
       " 'Darth Vader': '41.9BBY',\n",
       " 'Leia Organa': '19BBY',\n",
       " 'Owen Lars': '52BBY',\n",
       " 'Beru Whitesun lars': '47BBY',\n",
       " 'R5-D4': 'unknown',\n",
       " 'Biggs Darklighter': '24BBY',\n",
       " 'Obi-Wan Kenobi': '57BBY'}"
      ]
     },
     "execution_count": 7,
     "metadata": {},
     "output_type": "execute_result"
    }
   ],
   "source": [
    "# Look at results\n",
    "names_and_ages_dict"
   ]
  },
  {
   "cell_type": "markdown",
   "metadata": {},
   "source": [
    "According to [the API documentation](https://swapi.dev/documentation#people), \"BBY\" stands for \"Before the Battle of Yavin\". So, the oldest person will have the largest number before \"BBY\" in their age field. \n",
    "\n",
    "To get this value, let's just remove the \"BBY\" suffix from the ages, convert the numeric age values to numbers, and then figure out which person corresponds to the maximum value. \n",
    "\n",
    "But before that, let's remove the robot with unknown age, since we don't need this: "
   ]
  },
  {
   "cell_type": "code",
   "execution_count": 8,
   "metadata": {},
   "outputs": [
    {
     "data": {
      "text/plain": [
       "'unknown'"
      ]
     },
     "execution_count": 8,
     "metadata": {},
     "output_type": "execute_result"
    }
   ],
   "source": [
    "names_and_ages_dict.pop(\"R5-D4\")"
   ]
  },
  {
   "cell_type": "code",
   "execution_count": 9,
   "metadata": {},
   "outputs": [
    {
     "data": {
      "text/plain": [
       "{'Luke Skywalker': 19.0,\n",
       " 'C-3PO': 112.0,\n",
       " 'R2-D2': 33.0,\n",
       " 'Darth Vader': 41.9,\n",
       " 'Leia Organa': 19.0,\n",
       " 'Owen Lars': 52.0,\n",
       " 'Beru Whitesun lars': 47.0,\n",
       " 'Biggs Darklighter': 24.0,\n",
       " 'Obi-Wan Kenobi': 57.0}"
      ]
     },
     "execution_count": 9,
     "metadata": {},
     "output_type": "execute_result"
    }
   ],
   "source": [
    "names_and_ages_dict = {name: float(re.sub(\"BBY$\", \"\", age)) \n",
    "    for name, age \n",
    "    in names_and_ages_dict.items()}\n",
    "\n",
    "# inspect\n",
    "names_and_ages_dict"
   ]
  },
  {
   "cell_type": "markdown",
   "metadata": {},
   "source": [
    "Ok-- so who is the oldest? "
   ]
  },
  {
   "cell_type": "code",
   "execution_count": 10,
   "metadata": {},
   "outputs": [
    {
     "data": {
      "text/plain": [
       "'C-3PO'"
      ]
     },
     "execution_count": 10,
     "metadata": {},
     "output_type": "execute_result"
    }
   ],
   "source": [
    "max(names_and_ages_dict, key=names_and_ages_dict.get)"
   ]
  },
  {
   "cell_type": "markdown",
   "metadata": {},
   "source": [
    "## 3. Get films of oldest person (robot): C-3PO\n",
    "\n",
    "Almost done! Lastly, let's download C-3PO's movies and list those (along with his name): "
   ]
  },
  {
   "cell_type": "code",
   "execution_count": 11,
   "metadata": {},
   "outputs": [],
   "source": [
    "# Start a new dictionary to store results to output\n",
    "c3po_dict = {\"Name\": max(names_and_ages_dict, key=names_and_ages_dict.get),\n",
    "             \"Films\" : []}"
   ]
  },
  {
   "cell_type": "code",
   "execution_count": 12,
   "metadata": {},
   "outputs": [],
   "source": [
    "# Get index of C-3PO's results from original request \n",
    "c3po_index = [i for i in range(0,len(data[\"results\"])) if data[\"results\"][i][\"name\"] == \"C-3PO\"][0]\n",
    "\n",
    "# Download film titles\n",
    "for i in range(0, len(data[\"results\"][c3po_index][\"films\"])):\n",
    "    film = requests.get(data[\"results\"][c3po_index][\"films\"][i])\n",
    "    film_title = film.json()[\"title\"]\n",
    "    c3po_dict[\"Films\"].append(film_title)"
   ]
  },
  {
   "cell_type": "code",
   "execution_count": 13,
   "metadata": {},
   "outputs": [
    {
     "data": {
      "text/plain": [
       "{'Name': 'C-3PO',\n",
       " 'Films': ['A New Hope',\n",
       "  'The Empire Strikes Back',\n",
       "  'Return of the Jedi',\n",
       "  'The Phantom Menace',\n",
       "  'Attack of the Clones',\n",
       "  'Revenge of the Sith']}"
      ]
     },
     "execution_count": 13,
     "metadata": {},
     "output_type": "execute_result"
    }
   ],
   "source": [
    "c3po_dict"
   ]
  },
  {
   "cell_type": "markdown",
   "metadata": {},
   "source": [
    "And there we have it! "
   ]
  }
 ],
 "metadata": {
  "kernelspec": {
   "display_name": "Python 3",
   "language": "python",
   "name": "python3"
  },
  "language_info": {
   "codemirror_mode": {
    "name": "ipython",
    "version": 3
   },
   "file_extension": ".py",
   "mimetype": "text/x-python",
   "name": "python",
   "nbconvert_exporter": "python",
   "pygments_lexer": "ipython3",
   "version": "3.7.5"
  }
 },
 "nbformat": 4,
 "nbformat_minor": 4
}
