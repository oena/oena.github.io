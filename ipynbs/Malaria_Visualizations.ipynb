{
 "cells": [
  {
   "cell_type": "markdown",
   "metadata": {},
   "source": [
    "## Malaria visualizations \n",
    "\n",
    "Some plots from [this tidy Tuesday](https://github.com/rfordatascience/tidytuesday/tree/master/data/2018/2018-11-13) data set.\n",
    "\n",
    "October 2nd, 2020\n",
    "\n",
    "-----------"
   ]
  },
  {
   "cell_type": "markdown",
   "metadata": {},
   "source": [
    "### 0. Setup and Get Data "
   ]
  },
  {
   "cell_type": "code",
   "execution_count": 1,
   "metadata": {},
   "outputs": [],
   "source": [
    "%matplotlib inline \n",
    "import pandas as pd \n",
    "import seaborn as sns \n",
    "import plotly.graph_objects as go"
   ]
  },
  {
   "cell_type": "code",
   "execution_count": 14,
   "metadata": {},
   "outputs": [
    {
     "data": {
      "text/html": [
       "<div>\n",
       "<style scoped>\n",
       "    .dataframe tbody tr th:only-of-type {\n",
       "        vertical-align: middle;\n",
       "    }\n",
       "\n",
       "    .dataframe tbody tr th {\n",
       "        vertical-align: top;\n",
       "    }\n",
       "\n",
       "    .dataframe thead th {\n",
       "        text-align: right;\n",
       "    }\n",
       "</style>\n",
       "<table border=\"1\" class=\"dataframe\">\n",
       "  <thead>\n",
       "    <tr style=\"text-align: right;\">\n",
       "      <th></th>\n",
       "      <th>Unnamed: 0</th>\n",
       "      <th>entity</th>\n",
       "      <th>code</th>\n",
       "      <th>year</th>\n",
       "      <th>age_group</th>\n",
       "      <th>deaths</th>\n",
       "    </tr>\n",
       "  </thead>\n",
       "  <tbody>\n",
       "    <tr>\n",
       "      <th>0</th>\n",
       "      <td>1</td>\n",
       "      <td>Afghanistan</td>\n",
       "      <td>AFG</td>\n",
       "      <td>1990</td>\n",
       "      <td>Under 5</td>\n",
       "      <td>184.606435</td>\n",
       "    </tr>\n",
       "    <tr>\n",
       "      <th>1</th>\n",
       "      <td>2</td>\n",
       "      <td>Afghanistan</td>\n",
       "      <td>AFG</td>\n",
       "      <td>1991</td>\n",
       "      <td>Under 5</td>\n",
       "      <td>191.658193</td>\n",
       "    </tr>\n",
       "    <tr>\n",
       "      <th>2</th>\n",
       "      <td>3</td>\n",
       "      <td>Afghanistan</td>\n",
       "      <td>AFG</td>\n",
       "      <td>1992</td>\n",
       "      <td>Under 5</td>\n",
       "      <td>197.140197</td>\n",
       "    </tr>\n",
       "    <tr>\n",
       "      <th>3</th>\n",
       "      <td>4</td>\n",
       "      <td>Afghanistan</td>\n",
       "      <td>AFG</td>\n",
       "      <td>1993</td>\n",
       "      <td>Under 5</td>\n",
       "      <td>207.357753</td>\n",
       "    </tr>\n",
       "    <tr>\n",
       "      <th>4</th>\n",
       "      <td>5</td>\n",
       "      <td>Afghanistan</td>\n",
       "      <td>AFG</td>\n",
       "      <td>1994</td>\n",
       "      <td>Under 5</td>\n",
       "      <td>226.209363</td>\n",
       "    </tr>\n",
       "    <tr>\n",
       "      <th>...</th>\n",
       "      <td>...</td>\n",
       "      <td>...</td>\n",
       "      <td>...</td>\n",
       "      <td>...</td>\n",
       "      <td>...</td>\n",
       "      <td>...</td>\n",
       "    </tr>\n",
       "    <tr>\n",
       "      <th>30775</th>\n",
       "      <td>30776</td>\n",
       "      <td>Zimbabwe</td>\n",
       "      <td>ZWE</td>\n",
       "      <td>2012</td>\n",
       "      <td>50-69</td>\n",
       "      <td>103.185111</td>\n",
       "    </tr>\n",
       "    <tr>\n",
       "      <th>30776</th>\n",
       "      <td>30777</td>\n",
       "      <td>Zimbabwe</td>\n",
       "      <td>ZWE</td>\n",
       "      <td>2013</td>\n",
       "      <td>50-69</td>\n",
       "      <td>100.113293</td>\n",
       "    </tr>\n",
       "    <tr>\n",
       "      <th>30777</th>\n",
       "      <td>30778</td>\n",
       "      <td>Zimbabwe</td>\n",
       "      <td>ZWE</td>\n",
       "      <td>2014</td>\n",
       "      <td>50-69</td>\n",
       "      <td>99.013890</td>\n",
       "    </tr>\n",
       "    <tr>\n",
       "      <th>30778</th>\n",
       "      <td>30779</td>\n",
       "      <td>Zimbabwe</td>\n",
       "      <td>ZWE</td>\n",
       "      <td>2015</td>\n",
       "      <td>50-69</td>\n",
       "      <td>98.091738</td>\n",
       "    </tr>\n",
       "    <tr>\n",
       "      <th>30779</th>\n",
       "      <td>30780</td>\n",
       "      <td>Zimbabwe</td>\n",
       "      <td>ZWE</td>\n",
       "      <td>2016</td>\n",
       "      <td>50-69</td>\n",
       "      <td>97.402058</td>\n",
       "    </tr>\n",
       "  </tbody>\n",
       "</table>\n",
       "<p>30780 rows × 6 columns</p>\n",
       "</div>"
      ],
      "text/plain": [
       "       Unnamed: 0       entity code  year age_group      deaths\n",
       "0               1  Afghanistan  AFG  1990   Under 5  184.606435\n",
       "1               2  Afghanistan  AFG  1991   Under 5  191.658193\n",
       "2               3  Afghanistan  AFG  1992   Under 5  197.140197\n",
       "3               4  Afghanistan  AFG  1993   Under 5  207.357753\n",
       "4               5  Afghanistan  AFG  1994   Under 5  226.209363\n",
       "...           ...          ...  ...   ...       ...         ...\n",
       "30775       30776     Zimbabwe  ZWE  2012     50-69  103.185111\n",
       "30776       30777     Zimbabwe  ZWE  2013     50-69  100.113293\n",
       "30777       30778     Zimbabwe  ZWE  2014     50-69   99.013890\n",
       "30778       30779     Zimbabwe  ZWE  2015     50-69   98.091738\n",
       "30779       30780     Zimbabwe  ZWE  2016     50-69   97.402058\n",
       "\n",
       "[30780 rows x 6 columns]"
      ]
     },
     "execution_count": 14,
     "metadata": {},
     "output_type": "execute_result"
    }
   ],
   "source": [
    "# Looking at the dataset corresponding to Malaria deaths by age across\n",
    "# the world and time. \n",
    "malaria_deaths_url = \"https://raw.githubusercontent.com/rfordatascience/tidytuesday/master/data/2018/2018-11-13/malaria_deaths_age.csv\"\n",
    "malaria_deaths_df = pd.read_csv(malaria_deaths_url)\n",
    "malaria_deaths_df"
   ]
  },
  {
   "cell_type": "markdown",
   "metadata": {},
   "source": [
    "### 1. How much do malaria deaths change across age groups by year?"
   ]
  },
  {
   "cell_type": "code",
   "execution_count": 3,
   "metadata": {},
   "outputs": [
    {
     "data": {
      "text/plain": [
       "array(['Under 5', '70 or older', '5-14', '15-49', '50-69'], dtype=object)"
      ]
     },
     "execution_count": 3,
     "metadata": {},
     "output_type": "execute_result"
    }
   ],
   "source": [
    "# First, what are the age groups? \n",
    "malaria_deaths_df[\"age_group\"].unique()"
   ]
  },
  {
   "cell_type": "code",
   "execution_count": 4,
   "metadata": {},
   "outputs": [
    {
     "data": {
      "text/plain": [
       "Text(0.5, 1.0, 'Malaria deaths across time, by age group')"
      ]
     },
     "execution_count": 4,
     "metadata": {},
     "output_type": "execute_result"
    },
    {
     "data": {
      "image/png": "[encoded data removed]",
      "text/plain": [
       "<Figure size 432x288 with 1 Axes>"
      ]
     },
     "metadata": {
      "needs_background": "light"
     },
     "output_type": "display_data"
    }
   ],
   "source": [
    "# orders for age group, so they make sense\n",
    "age_orders = [\"Under 5\", \"5-14\", \"15-49\", \"50-69\", \"70 or older\"]\n",
    "(\n",
    "    sns.\n",
    "    lineplot(x=\"year\", y=\"deaths\",\n",
    "             hue=\"age_group\", \n",
    "             hue_order = age_orders,\n",
    "             palette=\"bright\",\n",
    "             data=malaria_deaths_df).\n",
    "    set_title(\"Malaria deaths across time, by age group\")\n",
    ")"
   ]
  },
  {
   "cell_type": "markdown",
   "metadata": {},
   "source": [
    "Wow, deaths in the \"Under 5\" age group seem disproportionately high. We can see in the plot above that there is some variation by year, but on the whole deaths in the under 5 group range between 12,000-15,000 or so. So, let's take the average in the under 5 age group and see if there are any patterns by country. "
   ]
  },
  {
   "cell_type": "markdown",
   "metadata": {},
   "source": [
    "### 2. How does average death rate in the under 5 age group vary by country? \n",
    "\n",
    "First, what are the countries represented? Any non-countries included in the country column? "
   ]
  },
  {
   "cell_type": "code",
   "execution_count": 18,
   "metadata": {},
   "outputs": [
    {
     "data": {
      "text/plain": [
       "array(['Afghanistan', 'Albania', 'Algeria', 'American Samoa',\n",
       "       'Andean Latin America', 'Andorra', 'Angola', 'Antigua and Barbuda',\n",
       "       'Argentina', 'Armenia', 'Australasia', 'Australia', 'Austria',\n",
       "       'Azerbaijan', 'Bahamas', 'Bahrain', 'Bangladesh', 'Barbados',\n",
       "       'Belarus', 'Belgium', 'Belize', 'Benin', 'Bermuda', 'Bhutan',\n",
       "       'Bolivia', 'Bosnia and Herzegovina', 'Botswana', 'Brazil',\n",
       "       'Brunei', 'Bulgaria', 'Burkina Faso', 'Burundi', 'Cambodia',\n",
       "       'Cameroon', 'Canada', 'Cape Verde', 'Caribbean',\n",
       "       'Central African Republic', 'Central Asia', 'Central Europe',\n",
       "       'Central Latin America', 'Central Sub-Saharan Africa', 'Chad',\n",
       "       'Chile', 'China', 'Colombia', 'Comoros', 'Congo', 'Costa Rica',\n",
       "       \"Cote d'Ivoire\", 'Croatia', 'Cuba', 'Cyprus', 'Czech Republic',\n",
       "       'Democratic Republic of Congo', 'Denmark', 'Djibouti', 'Dominica',\n",
       "       'Dominican Republic', 'East Asia', 'Eastern Europe',\n",
       "       'Eastern Sub-Saharan Africa', 'Ecuador', 'Egypt', 'El Salvador',\n",
       "       'England', 'Equatorial Guinea', 'Eritrea', 'Estonia', 'Ethiopia',\n",
       "       'Fiji', 'Finland', 'France', 'Gabon', 'Gambia', 'Georgia',\n",
       "       'Germany', 'Ghana', 'Greece', 'Greenland', 'Grenada', 'Guam',\n",
       "       'Guatemala', 'Guinea', 'Guinea-Bissau', 'Guyana', 'Haiti',\n",
       "       'High SDI', 'High-income Asia Pacific', 'High-middle SDI',\n",
       "       'Honduras', 'Hungary', 'Iceland', 'India', 'Indonesia', 'Iran',\n",
       "       'Iraq', 'Ireland', 'Israel', 'Italy', 'Jamaica', 'Japan', 'Jordan',\n",
       "       'Kazakhstan', 'Kenya', 'Kiribati', 'Kuwait', 'Kyrgyzstan', 'Laos',\n",
       "       'Latin America and Caribbean', 'Latvia', 'Lebanon', 'Lesotho',\n",
       "       'Liberia', 'Libya', 'Lithuania', 'Low SDI', 'Low-middle SDI',\n",
       "       'Luxembourg', 'Macedonia', 'Madagascar', 'Malawi', 'Malaysia',\n",
       "       'Maldives', 'Mali', 'Malta', 'Marshall Islands', 'Mauritania',\n",
       "       'Mauritius', 'Mexico', 'Micronesia (country)', 'Middle SDI',\n",
       "       'Moldova', 'Mongolia', 'Montenegro', 'Morocco', 'Mozambique',\n",
       "       'Myanmar', 'Namibia', 'Nepal', 'Netherlands', 'New Zealand',\n",
       "       'Nicaragua', 'Niger', 'Nigeria', 'North Africa and Middle East',\n",
       "       'North America', 'North Korea', 'Northern Ireland',\n",
       "       'Northern Mariana Islands', 'Norway', 'Oceania', 'Oman',\n",
       "       'Pakistan', 'Palestine', 'Panama', 'Papua New Guinea', 'Paraguay',\n",
       "       'Peru', 'Philippines', 'Poland', 'Portugal', 'Puerto Rico',\n",
       "       'Qatar', 'Romania', 'Russia', 'Rwanda', 'Saint Lucia',\n",
       "       'Saint Vincent and the Grenadines', 'Samoa',\n",
       "       'Sao Tome and Principe', 'Saudi Arabia', 'Scotland', 'Senegal',\n",
       "       'Serbia', 'Seychelles', 'Sierra Leone', 'Singapore', 'Slovakia',\n",
       "       'Slovenia', 'Solomon Islands', 'Somalia', 'South Africa',\n",
       "       'South Asia', 'South Korea', 'South Sudan', 'Southeast Asia',\n",
       "       'Southern Latin America', 'Southern Sub-Saharan Africa', 'Spain',\n",
       "       'Sri Lanka', 'Sub-Saharan Africa', 'Sudan', 'Suriname',\n",
       "       'Swaziland', 'Sweden', 'Switzerland', 'Syria', 'Taiwan',\n",
       "       'Tajikistan', 'Tanzania', 'Thailand', 'Timor', 'Togo', 'Tonga',\n",
       "       'Trinidad and Tobago', 'Tropical Latin America', 'Tunisia',\n",
       "       'Turkey', 'Turkmenistan', 'Uganda', 'Ukraine',\n",
       "       'United Arab Emirates', 'United Kingdom', 'United States',\n",
       "       'United States Virgin Islands', 'Uruguay', 'Uzbekistan', 'Vanuatu',\n",
       "       'Venezuela', 'Vietnam', 'Wales', 'Western Europe',\n",
       "       'Western Sub-Saharan Africa', 'World', 'Yemen', 'Zambia',\n",
       "       'Zimbabwe'], dtype=object)"
      ]
     },
     "execution_count": 18,
     "metadata": {},
     "output_type": "execute_result"
    }
   ],
   "source": [
    "malaria_deaths_df[\"entity\"].unique()"
   ]
  },
  {
   "cell_type": "markdown",
   "metadata": {},
   "source": [
    "Mostly seems fine, but let's exclude regions (eg. \"World\", \"Sub-Saharan Africa\", etc) since we just want to look at this by country. We also need to reorganize the data a little, because we only want the under 5 data, and we want it averaged by year. "
   ]
  },
  {
   "cell_type": "code",
   "execution_count": 26,
   "metadata": {},
   "outputs": [],
   "source": [
    "# Get under 5 data only \n",
    "malaria_under5_deaths = malaria_deaths_df.loc[malaria_deaths_df[\"age_group\"] == \"Under 5\"]\n",
    "\n",
    "# Remove regions from the \"entity\" (ie. country) column \n",
    "regions_to_exclude = [\"Andean Latin America\",\n",
    "                      \"Australasia\",\n",
    "                      \"Central Asia\", \n",
    "                      \"Central Europe\",\n",
    "                      \"Central Latin America\", \n",
    "                      \"Central Sub-Saharan Africa\",\n",
    "                      \"East Asia\", \n",
    "                      \"Eastern Europe\",\n",
    "                      \"Eastern Sub-Saharan Africa\",\n",
    "                      \"High SDI\", \n",
    "                      \"High-income Asia Pacific\", \n",
    "                      \"High-middle SDI\",\n",
    "                      \"Latin America and Caribbean\",\n",
    "                      \"Low SDI\", \n",
    "                      \"Low-middle SDI\",\n",
    "                      \"Middle SDI\",\n",
    "                      \"North Africa and Middle East\",\n",
    "                      \"North America\",\n",
    "                      \"South Asia\",\n",
    "                      \"Southeast Asia\",\n",
    "                      \"Southern Latin America\", \n",
    "                      \"Southern Sub-Saharan Africa\",\n",
    "                      \"Sub-Saharan Africa\",\n",
    "                      \"Tropical Latin America\",\n",
    "                      \"Western Europe\",\n",
    "                      \"Western Sub-Saharan Africa\",\n",
    "                      \"World\"]\n",
    "malaria_under5_deaths = malaria_under5_deaths.loc[~malaria_under5_deaths[\"entity\"].isin(regions_to_exclude)]\n",
    "\n",
    "# Get the average number of deaths by country\n",
    "malaria_under5_avg_deaths = malaria_under5_deaths.groupby(\"entity\").mean()"
   ]
  },
  {
   "cell_type": "markdown",
   "metadata": {},
   "source": [
    "Let's reset the index (we need it as a column), round the number of deaths for readability, and add a `text` column (for what is shown upon hover) combining the Country and average death values: "
   ]
  },
  {
   "cell_type": "code",
   "execution_count": 27,
   "metadata": {},
   "outputs": [
    {
     "data": {
      "text/html": [
       "<div>\n",
       "<style scoped>\n",
       "    .dataframe tbody tr th:only-of-type {\n",
       "        vertical-align: middle;\n",
       "    }\n",
       "\n",
       "    .dataframe tbody tr th {\n",
       "        vertical-align: top;\n",
       "    }\n",
       "\n",
       "    .dataframe thead th {\n",
       "        text-align: right;\n",
       "    }\n",
       "</style>\n",
       "<table border=\"1\" class=\"dataframe\">\n",
       "  <thead>\n",
       "    <tr style=\"text-align: right;\">\n",
       "      <th></th>\n",
       "      <th>entity</th>\n",
       "      <th>Unnamed: 0</th>\n",
       "      <th>year</th>\n",
       "      <th>deaths</th>\n",
       "      <th>text</th>\n",
       "    </tr>\n",
       "  </thead>\n",
       "  <tbody>\n",
       "    <tr>\n",
       "      <th>0</th>\n",
       "      <td>Afghanistan</td>\n",
       "      <td>14</td>\n",
       "      <td>2003</td>\n",
       "      <td>315.89</td>\n",
       "      <td>Afghanistan: 315.89</td>\n",
       "    </tr>\n",
       "    <tr>\n",
       "      <th>1</th>\n",
       "      <td>Albania</td>\n",
       "      <td>41</td>\n",
       "      <td>2003</td>\n",
       "      <td>0.00</td>\n",
       "      <td>Albania: 0.0</td>\n",
       "    </tr>\n",
       "    <tr>\n",
       "      <th>2</th>\n",
       "      <td>Algeria</td>\n",
       "      <td>68</td>\n",
       "      <td>2003</td>\n",
       "      <td>0.50</td>\n",
       "      <td>Algeria: 0.5</td>\n",
       "    </tr>\n",
       "    <tr>\n",
       "      <th>3</th>\n",
       "      <td>American Samoa</td>\n",
       "      <td>95</td>\n",
       "      <td>2003</td>\n",
       "      <td>0.00</td>\n",
       "      <td>American Samoa: 0.0</td>\n",
       "    </tr>\n",
       "    <tr>\n",
       "      <th>4</th>\n",
       "      <td>Andorra</td>\n",
       "      <td>149</td>\n",
       "      <td>2003</td>\n",
       "      <td>0.00</td>\n",
       "      <td>Andorra: 0.0</td>\n",
       "    </tr>\n",
       "  </tbody>\n",
       "</table>\n",
       "</div>"
      ],
      "text/plain": [
       "           entity  Unnamed: 0  year  deaths                 text\n",
       "0     Afghanistan          14  2003  315.89  Afghanistan: 315.89\n",
       "1         Albania          41  2003    0.00         Albania: 0.0\n",
       "2         Algeria          68  2003    0.50         Algeria: 0.5\n",
       "3  American Samoa          95  2003    0.00  American Samoa: 0.0\n",
       "4         Andorra         149  2003    0.00         Andorra: 0.0"
      ]
     },
     "execution_count": 27,
     "metadata": {},
     "output_type": "execute_result"
    }
   ],
   "source": [
    "malaria_under5_avg_deaths.reset_index(inplace=True)\n",
    "malaria_under5_avg_deaths = malaria_under5_avg_deaths.round(2)\n",
    "malaria_under5_avg_deaths[\"text\"] = malaria_under5_avg_deaths[\"entity\"] + \": \" + malaria_under5_avg_deaths[\"deaths\"].astype(str)\n",
    "malaria_under5_avg_deaths.head()"
   ]
  },
  {
   "cell_type": "code",
   "execution_count": 28,
   "metadata": {},
   "outputs": [
    {
     "data": {
      "text/html": [
       "<div>\n",
       "<style scoped>\n",
       "    .dataframe tbody tr th:only-of-type {\n",
       "        vertical-align: middle;\n",
       "    }\n",
       "\n",
       "    .dataframe tbody tr th {\n",
       "        vertical-align: top;\n",
       "    }\n",
       "\n",
       "    .dataframe thead th {\n",
       "        text-align: right;\n",
       "    }\n",
       "</style>\n",
       "<table border=\"1\" class=\"dataframe\">\n",
       "  <thead>\n",
       "    <tr style=\"text-align: right;\">\n",
       "      <th></th>\n",
       "      <th>Unnamed: 0</th>\n",
       "      <th>entity</th>\n",
       "      <th>code</th>\n",
       "      <th>year</th>\n",
       "      <th>age_group</th>\n",
       "      <th>deaths</th>\n",
       "    </tr>\n",
       "  </thead>\n",
       "  <tbody>\n",
       "    <tr>\n",
       "      <th>3906</th>\n",
       "      <td>3907</td>\n",
       "      <td>Nigeria</td>\n",
       "      <td>NGA</td>\n",
       "      <td>2008</td>\n",
       "      <td>Under 5</td>\n",
       "      <td>261794.558211</td>\n",
       "    </tr>\n",
       "  </tbody>\n",
       "</table>\n",
       "</div>"
      ],
      "text/plain": [
       "      Unnamed: 0   entity code  year age_group         deaths\n",
       "3906        3907  Nigeria  NGA  2008   Under 5  261794.558211"
      ]
     },
     "execution_count": 28,
     "metadata": {},
     "output_type": "execute_result"
    }
   ],
   "source": [
    "malaria_under5_deaths.loc[malaria_under5_deaths[\"deaths\"] == malaria_under5_deaths[\"deaths\"].max()]"
   ]
  },
  {
   "cell_type": "code",
   "execution_count": 29,
   "metadata": {},
   "outputs": [
    {
     "data": {
      "application/vnd.plotly.v1+json": {
       "config": {
        "plotlyServerURL": "https://plot.ly"
       },
       "data": [
        {
         "autocolorscale": true,
         "colorbar": {
          "title": {
           "text": "Average under 5 malaria deaths"
          }
         },
         "locationmode": "country names",
         "locations": [
          "Afghanistan",
          "Albania",
          "Algeria",
          "American Samoa",
          "Andorra",
          "Angola",
          "Antigua and Barbuda",
          "Argentina",
          "Armenia",
          "Australia",
          "Austria",
          "Azerbaijan",
          "Bahamas",
          "Bahrain",
          "Bangladesh",
          "Barbados",
          "Belarus",
          "Belgium",
          "Belize",
          "Benin",
          "Bermuda",
          "Bhutan",
          "Bolivia",
          "Bosnia and Herzegovina",
          "Botswana",
          "Brazil",
          "Brunei",
          "Bulgaria",
          "Burkina Faso",
          "Burundi",
          "Cambodia",
          "Cameroon",
          "Canada",
          "Cape Verde",
          "Caribbean",
          "Central African Republic",
          "Chad",
          "Chile",
          "China",
          "Colombia",
          "Comoros",
          "Congo",
          "Costa Rica",
          "Cote d'Ivoire",
          "Croatia",
          "Cuba",
          "Cyprus",
          "Czech Republic",
          "Democratic Republic of Congo",
          "Denmark",
          "Djibouti",
          "Dominica",
          "Dominican Republic",
          "Ecuador",
          "Egypt",
          "El Salvador",
          "England",
          "Equatorial Guinea",
          "Eritrea",
          "Estonia",
          "Ethiopia",
          "Fiji",
          "Finland",
          "France",
          "Gabon",
          "Gambia",
          "Georgia",
          "Germany",
          "Ghana",
          "Greece",
          "Greenland",
          "Grenada",
          "Guam",
          "Guatemala",
          "Guinea",
          "Guinea-Bissau",
          "Guyana",
          "Haiti",
          "Honduras",
          "Hungary",
          "Iceland",
          "India",
          "Indonesia",
          "Iran",
          "Iraq",
          "Ireland",
          "Israel",
          "Italy",
          "Jamaica",
          "Japan",
          "Jordan",
          "Kazakhstan",
          "Kenya",
          "Kiribati",
          "Kuwait",
          "Kyrgyzstan",
          "Laos",
          "Latvia",
          "Lebanon",
          "Lesotho",
          "Liberia",
          "Libya",
          "Lithuania",
          "Luxembourg",
          "Macedonia",
          "Madagascar",
          "Malawi",
          "Malaysia",
          "Maldives",
          "Mali",
          "Malta",
          "Marshall Islands",
          "Mauritania",
          "Mauritius",
          "Mexico",
          "Micronesia (country)",
          "Moldova",
          "Mongolia",
          "Montenegro",
          "Morocco",
          "Mozambique",
          "Myanmar",
          "Namibia",
          "Nepal",
          "Netherlands",
          "New Zealand",
          "Nicaragua",
          "Niger",
          "Nigeria",
          "North Korea",
          "Northern Ireland",
          "Northern Mariana Islands",
          "Norway",
          "Oceania",
          "Oman",
          "Pakistan",
          "Palestine",
          "Panama",
          "Papua New Guinea",
          "Paraguay",
          "Peru",
          "Philippines",
          "Poland",
          "Portugal",
          "Puerto Rico",
          "Qatar",
          "Romania",
          "Russia",
          "Rwanda",
          "Saint Lucia",
          "Saint Vincent and the Grenadines",
          "Samoa",
          "Sao Tome and Principe",
          "Saudi Arabia",
          "Scotland",
          "Senegal",
          "Serbia",
          "Seychelles",
          "Sierra Leone",
          "Singapore",
          "Slovakia",
          "Slovenia",
          "Solomon Islands",
          "Somalia",
          "South Africa",
          "South Korea",
          "South Sudan",
          "Spain",
          "Sri Lanka",
          "Sudan",
          "Suriname",
          "Swaziland",
          "Sweden",
          "Switzerland",
          "Syria",
          "Taiwan",
          "Tajikistan",
          "Tanzania",
          "Thailand",
          "Timor",
          "Togo",
          "Tonga",
          "Trinidad and Tobago",
          "Tunisia",
          "Turkey",
          "Turkmenistan",
          "Uganda",
          "Ukraine",
          "United Arab Emirates",
          "United Kingdom",
          "United States",
          "United States Virgin Islands",
          "Uruguay",
          "Uzbekistan",
          "Vanuatu",
          "Venezuela",
          "Vietnam",
          "Wales",
          "Yemen",
          "Zambia",
          "Zimbabwe"
         ],
         "reversescale": false,
         "text": [
          "Afghanistan: 315.89",
          "Albania: 0.0",
          "Algeria: 0.5",
          "American Samoa: 0.0",
          "Andorra: 0.0",
          "Angola: 5506.91",
          "Antigua and Barbuda: 0.0",
          "Argentina: 0.06",
          "Armenia: 0.01",
          "Australia: 0.0",
          "Austria: 0.0",
          "Azerbaijan: 0.05",
          "Bahamas: 0.0",
          "Bahrain: 0.0",
          "Bangladesh: 2.26",
          "Barbados: 0.0",
          "Belarus: 0.0",
          "Belgium: 0.0",
          "Belize: 0.07",
          "Benin: 5958.48",
          "Bermuda: 0.0",
          "Bhutan: 25.56",
          "Bolivia: 5.24",
          "Bosnia and Herzegovina: 0.0",
          "Botswana: 2.74",
          "Brazil: 63.32",
          "Brunei: 0.0",
          "Bulgaria: 0.0",
          "Burkina Faso: 27090.93",
          "Burundi: 8964.36",
          "Cambodia: 619.89",
          "Cameroon: 18920.41",
          "Canada: 0.0",
          "Cape Verde: 0.07",
          "Caribbean: 6.43",
          "Central African Republic: 2855.59",
          "Chad: 4250.82",
          "Chile: 0.0",
          "China: 4.76",
          "Colombia: 24.82",
          "Comoros: 1.11",
          "Congo: 1754.76",
          "Costa Rica: 0.01",
          "Cote d'Ivoire: 19893.38",
          "Croatia: 0.0",
          "Cuba: 0.0",
          "Cyprus: 0.0",
          "Czech Republic: 0.0",
          "Democratic Republic of Congo: 78082.39",
          "Denmark: 0.0",
          "Djibouti: 1.18",
          "Dominica: 0.0",
          "Dominican Republic: 0.13",
          "Ecuador: 7.65",
          "Egypt: 0.26",
          "El Salvador: 0.03",
          "England: 0.0",
          "Equatorial Guinea: 692.38",
          "Eritrea: 261.47",
          "Estonia: 0.0",
          "Ethiopia: 6610.91",
          "Fiji: 0.0",
          "Finland: 0.0",
          "France: 0.0",
          "Gabon: 469.2",
          "Gambia: 412.1",
          "Georgia: 0.02",
          "Germany: 0.0",
          "Ghana: 14211.2",
          "Greece: 0.0",
          "Greenland: 0.0",
          "Grenada: 0.0",
          "Guam: 0.01",
          "Guatemala: 9.63",
          "Guinea: 10740.99",
          "Guinea-Bissau: 598.21",
          "Guyana: 2.32",
          "Haiti: 2.76",
          "Honduras: 3.82",
          "Hungary: 0.0",
          "Iceland: 0.0",
          "India: 33569.69",
          "Indonesia: 1141.52",
          "Iran: 1.49",
          "Iraq: 0.1",
          "Ireland: 0.0",
          "Israel: 0.0",
          "Italy: 0.0",
          "Jamaica: 0.0",
          "Japan: 0.0",
          "Jordan: 0.0",
          "Kazakhstan: 0.0",
          "Kenya: 7309.38",
          "Kiribati: 0.0",
          "Kuwait: 0.0",
          "Kyrgyzstan: 0.03",
          "Laos: 8.26",
          "Latvia: 0.0",
          "Lebanon: 0.0",
          "Lesotho: 0.0",
          "Liberia: 2867.18",
          "Libya: 0.0",
          "Lithuania: 0.0",
          "Luxembourg: 0.0",
          "Macedonia: 0.0",
          "Madagascar: 4946.96",
          "Malawi: 12908.95",
          "Malaysia: 2.05",
          "Maldives: 0.0",
          "Mali: 19017.06",
          "Malta: 0.0",
          "Marshall Islands: 0.0",
          "Mauritania: 204.0",
          "Mauritius: 0.0",
          "Mexico: 0.4",
          "Micronesia (country): 0.0",
          "Moldova: 0.0",
          "Mongolia: 0.0",
          "Montenegro: 0.0",
          "Morocco: 0.18",
          "Mozambique: 24264.11",
          "Myanmar: 1219.18",
          "Namibia: 43.32",
          "Nepal: 349.13",
          "Netherlands: 0.0",
          "New Zealand: 0.0",
          "Nicaragua: 5.19",
          "Niger: 21820.32",
          "Nigeria: 213128.81",
          "North Korea: 0.09",
          "Northern Ireland: 0.0",
          "Northern Mariana Islands: 0.0",
          "Norway: 0.0",
          "Oceania: 1214.08",
          "Oman: 0.02",
          "Pakistan: 1249.45",
          "Palestine: 0.0",
          "Panama: 0.01",
          "Papua New Guinea: 1143.21",
          "Paraguay: 0.02",
          "Peru: 3.93",
          "Philippines: 36.26",
          "Poland: 0.0",
          "Portugal: 0.0",
          "Puerto Rico: 0.01",
          "Qatar: 0.0",
          "Romania: 0.0",
          "Russia: 0.0",
          "Rwanda: 4021.02",
          "Saint Lucia: 0.0",
          "Saint Vincent and the Grenadines: 0.0",
          "Samoa: 0.0",
          "Sao Tome and Principe: 14.48",
          "Saudi Arabia: 0.56",
          "Scotland: 0.0",
          "Senegal: 5252.74",
          "Serbia: 0.0",
          "Seychelles: 0.0",
          "Sierra Leone: 9022.3",
          "Singapore: 0.0",
          "Slovakia: 0.0",
          "Slovenia: 0.0",
          "Solomon Islands: 63.27",
          "Somalia: 1966.01",
          "South Africa: 20.2",
          "South Korea: 0.03",
          "South Sudan: 2834.46",
          "Spain: 0.0",
          "Sri Lanka: 12.95",
          "Sudan: 2019.04",
          "Suriname: 1.14",
          "Swaziland: 0.06",
          "Sweden: 0.0",
          "Switzerland: 0.0",
          "Syria: 0.04",
          "Taiwan: 0.0",
          "Tajikistan: 0.65",
          "Tanzania: 24197.3",
          "Thailand: 23.67",
          "Timor: 2.13",
          "Togo: 5023.31",
          "Tonga: 0.0",
          "Trinidad and Tobago: 0.0",
          "Tunisia: 0.0",
          "Turkey: 0.3",
          "Turkmenistan: 0.07",
          "Uganda: 40908.59",
          "Ukraine: 0.0",
          "United Arab Emirates: 0.01",
          "United Kingdom: 0.0",
          "United States: 0.0",
          "United States Virgin Islands: 0.0",
          "Uruguay: 0.0",
          "Uzbekistan: 0.2",
          "Vanuatu: 7.6",
          "Venezuela: 4.14",
          "Vietnam: 143.4",
          "Wales: 0.0",
          "Yemen: 0.88",
          "Zambia: 5284.49",
          "Zimbabwe: 349.65"
         ],
         "type": "choropleth",
         "z": [
          315.89,
          0,
          0.5,
          0,
          0,
          5506.91,
          0,
          0.06,
          0.01,
          0,
          0,
          0.05,
          0,
          0,
          2.26,
          0,
          0,
          0,
          0.07,
          5958.48,
          0,
          25.56,
          5.24,
          0,
          2.74,
          63.32,
          0,
          0,
          27090.93,
          8964.36,
          619.89,
          18920.41,
          0,
          0.07,
          6.43,
          2855.59,
          4250.82,
          0,
          4.76,
          24.82,
          1.11,
          1754.76,
          0.01,
          19893.38,
          0,
          0,
          0,
          0,
          78082.39,
          0,
          1.18,
          0,
          0.13,
          7.65,
          0.26,
          0.03,
          0,
          692.38,
          261.47,
          0,
          6610.91,
          0,
          0,
          0,
          469.2,
          412.1,
          0.02,
          0,
          14211.2,
          0,
          0,
          0,
          0.01,
          9.63,
          10740.99,
          598.21,
          2.32,
          2.76,
          3.82,
          0,
          0,
          33569.69,
          1141.52,
          1.49,
          0.1,
          0,
          0,
          0,
          0,
          0,
          0,
          0,
          7309.38,
          0,
          0,
          0.03,
          8.26,
          0,
          0,
          0,
          2867.18,
          0,
          0,
          0,
          0,
          4946.96,
          12908.95,
          2.05,
          0,
          19017.06,
          0,
          0,
          204,
          0,
          0.4,
          0,
          0,
          0,
          0,
          0.18,
          24264.11,
          1219.18,
          43.32,
          349.13,
          0,
          0,
          5.19,
          21820.32,
          213128.81,
          0.09,
          0,
          0,
          0,
          1214.08,
          0.02,
          1249.45,
          0,
          0.01,
          1143.21,
          0.02,
          3.93,
          36.26,
          0,
          0,
          0.01,
          0,
          0,
          0,
          4021.02,
          0,
          0,
          0,
          14.48,
          0.56,
          0,
          5252.74,
          0,
          0,
          9022.3,
          0,
          0,
          0,
          63.27,
          1966.01,
          20.2,
          0.03,
          2834.46,
          0,
          12.95,
          2019.04,
          1.14,
          0.06,
          0,
          0,
          0.04,
          0,
          0.65,
          24197.3,
          23.67,
          2.13,
          5023.31,
          0,
          0,
          0,
          0.3,
          0.07,
          40908.59,
          0,
          0.01,
          0,
          0,
          0,
          0,
          0.2,
          7.6,
          4.14,
          143.4,
          0,
          0.88,
          5284.49,
          349.65
         ]
        }
       ],
       "layout": {
        "geo": {
         "showcoastlines": true
        },
        "template": {
         "data": {
          "bar": [
           {
            "error_x": {
             "color": "#2a3f5f"
            },
            "error_y": {
             "color": "#2a3f5f"
            },
            "marker": {
             "line": {
              "color": "#E5ECF6",
              "width": 0.5
             }
            },
            "type": "bar"
           }
          ],
          "barpolar": [
           {
            "marker": {
             "line": {
              "color": "#E5ECF6",
              "width": 0.5
             }
            },
            "type": "barpolar"
           }
          ],
          "carpet": [
           {
            "aaxis": {
             "endlinecolor": "#2a3f5f",
             "gridcolor": "white",
             "linecolor": "white",
             "minorgridcolor": "white",
             "startlinecolor": "#2a3f5f"
            },
            "baxis": {
             "endlinecolor": "#2a3f5f",
             "gridcolor": "white",
             "linecolor": "white",
             "minorgridcolor": "white",
             "startlinecolor": "#2a3f5f"
            },
            "type": "carpet"
           }
          ],
          "choropleth": [
           {
            "colorbar": {
             "outlinewidth": 0,
             "ticks": ""
            },
            "type": "choropleth"
           }
          ],
          "contour": [
           {
            "colorbar": {
             "outlinewidth": 0,
             "ticks": ""
            },
            "colorscale": [
             [
              0,
              "#0d0887"
             ],
             [
              0.1111111111111111,
              "#46039f"
             ],
             [
              0.2222222222222222,
              "#7201a8"
             ],
             [
              0.3333333333333333,
              "#9c179e"
             ],
             [
              0.4444444444444444,
              "#bd3786"
             ],
             [
              0.5555555555555556,
              "#d8576b"
             ],
             [
              0.6666666666666666,
              "#ed7953"
             ],
             [
              0.7777777777777778,
              "#fb9f3a"
             ],
             [
              0.8888888888888888,
              "#fdca26"
             ],
             [
              1,
              "#f0f921"
             ]
            ],
            "type": "contour"
           }
          ],
          "contourcarpet": [
           {
            "colorbar": {
             "outlinewidth": 0,
             "ticks": ""
            },
            "type": "contourcarpet"
           }
          ],
          "heatmap": [
           {
            "colorbar": {
             "outlinewidth": 0,
             "ticks": ""
            },
            "colorscale": [
             [
              0,
              "#0d0887"
             ],
             [
              0.1111111111111111,
              "#46039f"
             ],
             [
              0.2222222222222222,
              "#7201a8"
             ],
             [
              0.3333333333333333,
              "#9c179e"
             ],
             [
              0.4444444444444444,
              "#bd3786"
             ],
             [
              0.5555555555555556,
              "#d8576b"
             ],
             [
              0.6666666666666666,
              "#ed7953"
             ],
             [
              0.7777777777777778,
              "#fb9f3a"
             ],
             [
              0.8888888888888888,
              "#fdca26"
             ],
             [
              1,
              "#f0f921"
             ]
            ],
            "type": "heatmap"
           }
          ],
          "heatmapgl": [
           {
            "colorbar": {
             "outlinewidth": 0,
             "ticks": ""
            },
            "colorscale": [
             [
              0,
              "#0d0887"
             ],
             [
              0.1111111111111111,
              "#46039f"
             ],
             [
              0.2222222222222222,
              "#7201a8"
             ],
             [
              0.3333333333333333,
              "#9c179e"
             ],
             [
              0.4444444444444444,
              "#bd3786"
             ],
             [
              0.5555555555555556,
              "#d8576b"
             ],
             [
              0.6666666666666666,
              "#ed7953"
             ],
             [
              0.7777777777777778,
              "#fb9f3a"
             ],
             [
              0.8888888888888888,
              "#fdca26"
             ],
             [
              1,
              "#f0f921"
             ]
            ],
            "type": "heatmapgl"
           }
          ],
          "histogram": [
           {
            "marker": {
             "colorbar": {
              "outlinewidth": 0,
              "ticks": ""
             }
            },
            "type": "histogram"
           }
          ],
          "histogram2d": [
           {
            "colorbar": {
             "outlinewidth": 0,
             "ticks": ""
            },
            "colorscale": [
             [
              0,
              "#0d0887"
             ],
             [
              0.1111111111111111,
              "#46039f"
             ],
             [
              0.2222222222222222,
              "#7201a8"
             ],
             [
              0.3333333333333333,
              "#9c179e"
             ],
             [
              0.4444444444444444,
              "#bd3786"
             ],
             [
              0.5555555555555556,
              "#d8576b"
             ],
             [
              0.6666666666666666,
              "#ed7953"
             ],
             [
              0.7777777777777778,
              "#fb9f3a"
             ],
             [
              0.8888888888888888,
              "#fdca26"
             ],
             [
              1,
              "#f0f921"
             ]
            ],
            "type": "histogram2d"
           }
          ],
          "histogram2dcontour": [
           {
            "colorbar": {
             "outlinewidth": 0,
             "ticks": ""
            },
            "colorscale": [
             [
              0,
              "#0d0887"
             ],
             [
              0.1111111111111111,
              "#46039f"
             ],
             [
              0.2222222222222222,
              "#7201a8"
             ],
             [
              0.3333333333333333,
              "#9c179e"
             ],
             [
              0.4444444444444444,
              "#bd3786"
             ],
             [
              0.5555555555555556,
              "#d8576b"
             ],
             [
              0.6666666666666666,
              "#ed7953"
             ],
             [
              0.7777777777777778,
              "#fb9f3a"
             ],
             [
              0.8888888888888888,
              "#fdca26"
             ],
             [
              1,
              "#f0f921"
             ]
            ],
            "type": "histogram2dcontour"
           }
          ],
          "mesh3d": [
           {
            "colorbar": {
             "outlinewidth": 0,
             "ticks": ""
            },
            "type": "mesh3d"
           }
          ],
          "parcoords": [
           {
            "line": {
             "colorbar": {
              "outlinewidth": 0,
              "ticks": ""
             }
            },
            "type": "parcoords"
           }
          ],
          "pie": [
           {
            "automargin": true,
            "type": "pie"
           }
          ],
          "scatter": [
           {
            "marker": {
             "colorbar": {
              "outlinewidth": 0,
              "ticks": ""
             }
            },
            "type": "scatter"
           }
          ],
          "scatter3d": [
           {
            "line": {
             "colorbar": {
              "outlinewidth": 0,
              "ticks": ""
             }
            },
            "marker": {
             "colorbar": {
              "outlinewidth": 0,
              "ticks": ""
             }
            },
            "type": "scatter3d"
           }
          ],
          "scattercarpet": [
           {
            "marker": {
             "colorbar": {
              "outlinewidth": 0,
              "ticks": ""
             }
            },
            "type": "scattercarpet"
           }
          ],
          "scattergeo": [
           {
            "marker": {
             "colorbar": {
              "outlinewidth": 0,
              "ticks": ""
             }
            },
            "type": "scattergeo"
           }
          ],
          "scattergl": [
           {
            "marker": {
             "colorbar": {
              "outlinewidth": 0,
              "ticks": ""
             }
            },
            "type": "scattergl"
           }
          ],
          "scattermapbox": [
           {
            "marker": {
             "colorbar": {
              "outlinewidth": 0,
              "ticks": ""
             }
            },
            "type": "scattermapbox"
           }
          ],
          "scatterpolar": [
           {
            "marker": {
             "colorbar": {
              "outlinewidth": 0,
              "ticks": ""
             }
            },
            "type": "scatterpolar"
           }
          ],
          "scatterpolargl": [
           {
            "marker": {
             "colorbar": {
              "outlinewidth": 0,
              "ticks": ""
             }
            },
            "type": "scatterpolargl"
           }
          ],
          "scatterternary": [
           {
            "marker": {
             "colorbar": {
              "outlinewidth": 0,
              "ticks": ""
             }
            },
            "type": "scatterternary"
           }
          ],
          "surface": [
           {
            "colorbar": {
             "outlinewidth": 0,
             "ticks": ""
            },
            "colorscale": [
             [
              0,
              "#0d0887"
             ],
             [
              0.1111111111111111,
              "#46039f"
             ],
             [
              0.2222222222222222,
              "#7201a8"
             ],
             [
              0.3333333333333333,
              "#9c179e"
             ],
             [
              0.4444444444444444,
              "#bd3786"
             ],
             [
              0.5555555555555556,
              "#d8576b"
             ],
             [
              0.6666666666666666,
              "#ed7953"
             ],
             [
              0.7777777777777778,
              "#fb9f3a"
             ],
             [
              0.8888888888888888,
              "#fdca26"
             ],
             [
              1,
              "#f0f921"
             ]
            ],
            "type": "surface"
           }
          ],
          "table": [
           {
            "cells": {
             "fill": {
              "color": "#EBF0F8"
             },
             "line": {
              "color": "white"
             }
            },
            "header": {
             "fill": {
              "color": "#C8D4E3"
             },
             "line": {
              "color": "white"
             }
            },
            "type": "table"
           }
          ]
         },
         "layout": {
          "annotationdefaults": {
           "arrowcolor": "#2a3f5f",
           "arrowhead": 0,
           "arrowwidth": 1
          },
          "coloraxis": {
           "colorbar": {
            "outlinewidth": 0,
            "ticks": ""
           }
          },
          "colorscale": {
           "diverging": [
            [
             0,
             "#8e0152"
            ],
            [
             0.1,
             "#c51b7d"
            ],
            [
             0.2,
             "#de77ae"
            ],
            [
             0.3,
             "#f1b6da"
            ],
            [
             0.4,
             "#fde0ef"
            ],
            [
             0.5,
             "#f7f7f7"
            ],
            [
             0.6,
             "#e6f5d0"
            ],
            [
             0.7,
             "#b8e186"
            ],
            [
             0.8,
             "#7fbc41"
            ],
            [
             0.9,
             "#4d9221"
            ],
            [
             1,
             "#276419"
            ]
           ],
           "sequential": [
            [
             0,
             "#0d0887"
            ],
            [
             0.1111111111111111,
             "#46039f"
            ],
            [
             0.2222222222222222,
             "#7201a8"
            ],
            [
             0.3333333333333333,
             "#9c179e"
            ],
            [
             0.4444444444444444,
             "#bd3786"
            ],
            [
             0.5555555555555556,
             "#d8576b"
            ],
            [
             0.6666666666666666,
             "#ed7953"
            ],
            [
             0.7777777777777778,
             "#fb9f3a"
            ],
            [
             0.8888888888888888,
             "#fdca26"
            ],
            [
             1,
             "#f0f921"
            ]
           ],
           "sequentialminus": [
            [
             0,
             "#0d0887"
            ],
            [
             0.1111111111111111,
             "#46039f"
            ],
            [
             0.2222222222222222,
             "#7201a8"
            ],
            [
             0.3333333333333333,
             "#9c179e"
            ],
            [
             0.4444444444444444,
             "#bd3786"
            ],
            [
             0.5555555555555556,
             "#d8576b"
            ],
            [
             0.6666666666666666,
             "#ed7953"
            ],
            [
             0.7777777777777778,
             "#fb9f3a"
            ],
            [
             0.8888888888888888,
             "#fdca26"
            ],
            [
             1,
             "#f0f921"
            ]
           ]
          },
          "colorway": [
           "#636efa",
           "#EF553B",
           "#00cc96",
           "#ab63fa",
           "#FFA15A",
           "#19d3f3",
           "#FF6692",
           "#B6E880",
           "#FF97FF",
           "#FECB52"
          ],
          "font": {
           "color": "#2a3f5f"
          },
          "geo": {
           "bgcolor": "white",
           "lakecolor": "white",
           "landcolor": "#E5ECF6",
           "showlakes": true,
           "showland": true,
           "subunitcolor": "white"
          },
          "hoverlabel": {
           "align": "left"
          },
          "hovermode": "closest",
          "mapbox": {
           "style": "light"
          },
          "paper_bgcolor": "white",
          "plot_bgcolor": "#E5ECF6",
          "polar": {
           "angularaxis": {
            "gridcolor": "white",
            "linecolor": "white",
            "ticks": ""
           },
           "bgcolor": "#E5ECF6",
           "radialaxis": {
            "gridcolor": "white",
            "linecolor": "white",
            "ticks": ""
           }
          },
          "scene": {
           "xaxis": {
            "backgroundcolor": "#E5ECF6",
            "gridcolor": "white",
            "gridwidth": 2,
            "linecolor": "white",
            "showbackground": true,
            "ticks": "",
            "zerolinecolor": "white"
           },
           "yaxis": {
            "backgroundcolor": "#E5ECF6",
            "gridcolor": "white",
            "gridwidth": 2,
            "linecolor": "white",
            "showbackground": true,
            "ticks": "",
            "zerolinecolor": "white"
           },
           "zaxis": {
            "backgroundcolor": "#E5ECF6",
            "gridcolor": "white",
            "gridwidth": 2,
            "linecolor": "white",
            "showbackground": true,
            "ticks": "",
            "zerolinecolor": "white"
           }
          },
          "shapedefaults": {
           "line": {
            "color": "#2a3f5f"
           }
          },
          "ternary": {
           "aaxis": {
            "gridcolor": "white",
            "linecolor": "white",
            "ticks": ""
           },
           "baxis": {
            "gridcolor": "white",
            "linecolor": "white",
            "ticks": ""
           },
           "bgcolor": "#E5ECF6",
           "caxis": {
            "gridcolor": "white",
            "linecolor": "white",
            "ticks": ""
           }
          },
          "title": {
           "x": 0.05
          },
          "xaxis": {
           "automargin": true,
           "gridcolor": "white",
           "linecolor": "white",
           "ticks": "",
           "title": {
            "standoff": 15
           },
           "zerolinecolor": "white",
           "zerolinewidth": 2
          },
          "yaxis": {
           "automargin": true,
           "gridcolor": "white",
           "linecolor": "white",
           "ticks": "",
           "title": {
            "standoff": 15
           },
           "zerolinecolor": "white",
           "zerolinewidth": 2
          }
         }
        },
        "title": {
         "text": "Average under 5 malaria deaths by country: 1990-2016"
        }
       }
      },
      "text/html": [
       "<div>\n",
       "        \n",
       "        \n",
       "            <div id=\"4846224f-2779-47a5-bee1-85d60788810f\" class=\"plotly-graph-div\" style=\"height:525px; width:100%;\"></div>\n",
       "            <script type=\"text/javascript\">\n",
       "                require([\"plotly\"], function(Plotly) {\n",
       "                    window.PLOTLYENV=window.PLOTLYENV || {};\n",
       "                    \n",
       "                if (document.getElementById(\"4846224f-2779-47a5-bee1-85d60788810f\")) {\n",
       "                    Plotly.newPlot(\n",
       "                        '4846224f-2779-47a5-bee1-85d60788810f',\n",
       "                        [{\"autocolorscale\": true, \"colorbar\": {\"title\": {\"text\": \"Average under 5 malaria deaths\"}}, \"locationmode\": \"country names\", \"locations\": [\"Afghanistan\", \"Albania\", \"Algeria\", \"American Samoa\", \"Andorra\", \"Angola\", \"Antigua and Barbuda\", \"Argentina\", \"Armenia\", \"Australia\", \"Austria\", \"Azerbaijan\", \"Bahamas\", \"Bahrain\", \"Bangladesh\", \"Barbados\", \"Belarus\", \"Belgium\", \"Belize\", \"Benin\", \"Bermuda\", \"Bhutan\", \"Bolivia\", \"Bosnia and Herzegovina\", \"Botswana\", \"Brazil\", \"Brunei\", \"Bulgaria\", \"Burkina Faso\", \"Burundi\", \"Cambodia\", \"Cameroon\", \"Canada\", \"Cape Verde\", \"Caribbean\", \"Central African Republic\", \"Chad\", \"Chile\", \"China\", \"Colombia\", \"Comoros\", \"Congo\", \"Costa Rica\", \"Cote d'Ivoire\", \"Croatia\", \"Cuba\", \"Cyprus\", \"Czech Republic\", \"Democratic Republic of Congo\", \"Denmark\", \"Djibouti\", \"Dominica\", \"Dominican Republic\", \"Ecuador\", \"Egypt\", \"El Salvador\", \"England\", \"Equatorial Guinea\", \"Eritrea\", \"Estonia\", \"Ethiopia\", \"Fiji\", \"Finland\", \"France\", \"Gabon\", \"Gambia\", \"Georgia\", \"Germany\", \"Ghana\", \"Greece\", \"Greenland\", \"Grenada\", \"Guam\", \"Guatemala\", \"Guinea\", \"Guinea-Bissau\", \"Guyana\", \"Haiti\", \"Honduras\", \"Hungary\", \"Iceland\", \"India\", \"Indonesia\", \"Iran\", \"Iraq\", \"Ireland\", \"Israel\", \"Italy\", \"Jamaica\", \"Japan\", \"Jordan\", \"Kazakhstan\", \"Kenya\", \"Kiribati\", \"Kuwait\", \"Kyrgyzstan\", \"Laos\", \"Latvia\", \"Lebanon\", \"Lesotho\", \"Liberia\", \"Libya\", \"Lithuania\", \"Luxembourg\", \"Macedonia\", \"Madagascar\", \"Malawi\", \"Malaysia\", \"Maldives\", \"Mali\", \"Malta\", \"Marshall Islands\", \"Mauritania\", \"Mauritius\", \"Mexico\", \"Micronesia (country)\", \"Moldova\", \"Mongolia\", \"Montenegro\", \"Morocco\", \"Mozambique\", \"Myanmar\", \"Namibia\", \"Nepal\", \"Netherlands\", \"New Zealand\", \"Nicaragua\", \"Niger\", \"Nigeria\", \"North Korea\", \"Northern Ireland\", \"Northern Mariana Islands\", \"Norway\", \"Oceania\", \"Oman\", \"Pakistan\", \"Palestine\", \"Panama\", \"Papua New Guinea\", \"Paraguay\", \"Peru\", \"Philippines\", \"Poland\", \"Portugal\", \"Puerto Rico\", \"Qatar\", \"Romania\", \"Russia\", \"Rwanda\", \"Saint Lucia\", \"Saint Vincent and the Grenadines\", \"Samoa\", \"Sao Tome and Principe\", \"Saudi Arabia\", \"Scotland\", \"Senegal\", \"Serbia\", \"Seychelles\", \"Sierra Leone\", \"Singapore\", \"Slovakia\", \"Slovenia\", \"Solomon Islands\", \"Somalia\", \"South Africa\", \"South Korea\", \"South Sudan\", \"Spain\", \"Sri Lanka\", \"Sudan\", \"Suriname\", \"Swaziland\", \"Sweden\", \"Switzerland\", \"Syria\", \"Taiwan\", \"Tajikistan\", \"Tanzania\", \"Thailand\", \"Timor\", \"Togo\", \"Tonga\", \"Trinidad and Tobago\", \"Tunisia\", \"Turkey\", \"Turkmenistan\", \"Uganda\", \"Ukraine\", \"United Arab Emirates\", \"United Kingdom\", \"United States\", \"United States Virgin Islands\", \"Uruguay\", \"Uzbekistan\", \"Vanuatu\", \"Venezuela\", \"Vietnam\", \"Wales\", \"Yemen\", \"Zambia\", \"Zimbabwe\"], \"reversescale\": false, \"text\": [\"Afghanistan: 315.89\", \"Albania: 0.0\", \"Algeria: 0.5\", \"American Samoa: 0.0\", \"Andorra: 0.0\", \"Angola: 5506.91\", \"Antigua and Barbuda: 0.0\", \"Argentina: 0.06\", \"Armenia: 0.01\", \"Australia: 0.0\", \"Austria: 0.0\", \"Azerbaijan: 0.05\", \"Bahamas: 0.0\", \"Bahrain: 0.0\", \"Bangladesh: 2.26\", \"Barbados: 0.0\", \"Belarus: 0.0\", \"Belgium: 0.0\", \"Belize: 0.07\", \"Benin: 5958.48\", \"Bermuda: 0.0\", \"Bhutan: 25.56\", \"Bolivia: 5.24\", \"Bosnia and Herzegovina: 0.0\", \"Botswana: 2.74\", \"Brazil: 63.32\", \"Brunei: 0.0\", \"Bulgaria: 0.0\", \"Burkina Faso: 27090.93\", \"Burundi: 8964.36\", \"Cambodia: 619.89\", \"Cameroon: 18920.41\", \"Canada: 0.0\", \"Cape Verde: 0.07\", \"Caribbean: 6.43\", \"Central African Republic: 2855.59\", \"Chad: 4250.82\", \"Chile: 0.0\", \"China: 4.76\", \"Colombia: 24.82\", \"Comoros: 1.11\", \"Congo: 1754.76\", \"Costa Rica: 0.01\", \"Cote d'Ivoire: 19893.38\", \"Croatia: 0.0\", \"Cuba: 0.0\", \"Cyprus: 0.0\", \"Czech Republic: 0.0\", \"Democratic Republic of Congo: 78082.39\", \"Denmark: 0.0\", \"Djibouti: 1.18\", \"Dominica: 0.0\", \"Dominican Republic: 0.13\", \"Ecuador: 7.65\", \"Egypt: 0.26\", \"El Salvador: 0.03\", \"England: 0.0\", \"Equatorial Guinea: 692.38\", \"Eritrea: 261.47\", \"Estonia: 0.0\", \"Ethiopia: 6610.91\", \"Fiji: 0.0\", \"Finland: 0.0\", \"France: 0.0\", \"Gabon: 469.2\", \"Gambia: 412.1\", \"Georgia: 0.02\", \"Germany: 0.0\", \"Ghana: 14211.2\", \"Greece: 0.0\", \"Greenland: 0.0\", \"Grenada: 0.0\", \"Guam: 0.01\", \"Guatemala: 9.63\", \"Guinea: 10740.99\", \"Guinea-Bissau: 598.21\", \"Guyana: 2.32\", \"Haiti: 2.76\", \"Honduras: 3.82\", \"Hungary: 0.0\", \"Iceland: 0.0\", \"India: 33569.69\", \"Indonesia: 1141.52\", \"Iran: 1.49\", \"Iraq: 0.1\", \"Ireland: 0.0\", \"Israel: 0.0\", \"Italy: 0.0\", \"Jamaica: 0.0\", \"Japan: 0.0\", \"Jordan: 0.0\", \"Kazakhstan: 0.0\", \"Kenya: 7309.38\", \"Kiribati: 0.0\", \"Kuwait: 0.0\", \"Kyrgyzstan: 0.03\", \"Laos: 8.26\", \"Latvia: 0.0\", \"Lebanon: 0.0\", \"Lesotho: 0.0\", \"Liberia: 2867.18\", \"Libya: 0.0\", \"Lithuania: 0.0\", \"Luxembourg: 0.0\", \"Macedonia: 0.0\", \"Madagascar: 4946.96\", \"Malawi: 12908.95\", \"Malaysia: 2.05\", \"Maldives: 0.0\", \"Mali: 19017.06\", \"Malta: 0.0\", \"Marshall Islands: 0.0\", \"Mauritania: 204.0\", \"Mauritius: 0.0\", \"Mexico: 0.4\", \"Micronesia (country): 0.0\", \"Moldova: 0.0\", \"Mongolia: 0.0\", \"Montenegro: 0.0\", \"Morocco: 0.18\", \"Mozambique: 24264.11\", \"Myanmar: 1219.18\", \"Namibia: 43.32\", \"Nepal: 349.13\", \"Netherlands: 0.0\", \"New Zealand: 0.0\", \"Nicaragua: 5.19\", \"Niger: 21820.32\", \"Nigeria: 213128.81\", \"North Korea: 0.09\", \"Northern Ireland: 0.0\", \"Northern Mariana Islands: 0.0\", \"Norway: 0.0\", \"Oceania: 1214.08\", \"Oman: 0.02\", \"Pakistan: 1249.45\", \"Palestine: 0.0\", \"Panama: 0.01\", \"Papua New Guinea: 1143.21\", \"Paraguay: 0.02\", \"Peru: 3.93\", \"Philippines: 36.26\", \"Poland: 0.0\", \"Portugal: 0.0\", \"Puerto Rico: 0.01\", \"Qatar: 0.0\", \"Romania: 0.0\", \"Russia: 0.0\", \"Rwanda: 4021.02\", \"Saint Lucia: 0.0\", \"Saint Vincent and the Grenadines: 0.0\", \"Samoa: 0.0\", \"Sao Tome and Principe: 14.48\", \"Saudi Arabia: 0.56\", \"Scotland: 0.0\", \"Senegal: 5252.74\", \"Serbia: 0.0\", \"Seychelles: 0.0\", \"Sierra Leone: 9022.3\", \"Singapore: 0.0\", \"Slovakia: 0.0\", \"Slovenia: 0.0\", \"Solomon Islands: 63.27\", \"Somalia: 1966.01\", \"South Africa: 20.2\", \"South Korea: 0.03\", \"South Sudan: 2834.46\", \"Spain: 0.0\", \"Sri Lanka: 12.95\", \"Sudan: 2019.04\", \"Suriname: 1.14\", \"Swaziland: 0.06\", \"Sweden: 0.0\", \"Switzerland: 0.0\", \"Syria: 0.04\", \"Taiwan: 0.0\", \"Tajikistan: 0.65\", \"Tanzania: 24197.3\", \"Thailand: 23.67\", \"Timor: 2.13\", \"Togo: 5023.31\", \"Tonga: 0.0\", \"Trinidad and Tobago: 0.0\", \"Tunisia: 0.0\", \"Turkey: 0.3\", \"Turkmenistan: 0.07\", \"Uganda: 40908.59\", \"Ukraine: 0.0\", \"United Arab Emirates: 0.01\", \"United Kingdom: 0.0\", \"United States: 0.0\", \"United States Virgin Islands: 0.0\", \"Uruguay: 0.0\", \"Uzbekistan: 0.2\", \"Vanuatu: 7.6\", \"Venezuela: 4.14\", \"Vietnam: 143.4\", \"Wales: 0.0\", \"Yemen: 0.88\", \"Zambia: 5284.49\", \"Zimbabwe: 349.65\"], \"type\": \"choropleth\", \"z\": [315.89, 0.0, 0.5, 0.0, 0.0, 5506.91, 0.0, 0.06, 0.01, 0.0, 0.0, 0.05, 0.0, 0.0, 2.26, 0.0, 0.0, 0.0, 0.07, 5958.48, 0.0, 25.56, 5.24, 0.0, 2.74, 63.32, 0.0, 0.0, 27090.93, 8964.36, 619.89, 18920.41, 0.0, 0.07, 6.43, 2855.59, 4250.82, 0.0, 4.76, 24.82, 1.11, 1754.76, 0.01, 19893.38, 0.0, 0.0, 0.0, 0.0, 78082.39, 0.0, 1.18, 0.0, 0.13, 7.65, 0.26, 0.03, 0.0, 692.38, 261.47, 0.0, 6610.91, 0.0, 0.0, 0.0, 469.2, 412.1, 0.02, 0.0, 14211.2, 0.0, 0.0, 0.0, 0.01, 9.63, 10740.99, 598.21, 2.32, 2.76, 3.82, 0.0, 0.0, 33569.69, 1141.52, 1.49, 0.1, 0.0, 0.0, 0.0, 0.0, 0.0, 0.0, 0.0, 7309.38, 0.0, 0.0, 0.03, 8.26, 0.0, 0.0, 0.0, 2867.18, 0.0, 0.0, 0.0, 0.0, 4946.96, 12908.95, 2.05, 0.0, 19017.06, 0.0, 0.0, 204.0, 0.0, 0.4, 0.0, 0.0, 0.0, 0.0, 0.18, 24264.11, 1219.18, 43.32, 349.13, 0.0, 0.0, 5.19, 21820.32, 213128.81, 0.09, 0.0, 0.0, 0.0, 1214.08, 0.02, 1249.45, 0.0, 0.01, 1143.21, 0.02, 3.93, 36.26, 0.0, 0.0, 0.01, 0.0, 0.0, 0.0, 4021.02, 0.0, 0.0, 0.0, 14.48, 0.56, 0.0, 5252.74, 0.0, 0.0, 9022.3, 0.0, 0.0, 0.0, 63.27, 1966.01, 20.2, 0.03, 2834.46, 0.0, 12.95, 2019.04, 1.14, 0.06, 0.0, 0.0, 0.04, 0.0, 0.65, 24197.3, 23.67, 2.13, 5023.31, 0.0, 0.0, 0.0, 0.3, 0.07, 40908.59, 0.0, 0.01, 0.0, 0.0, 0.0, 0.0, 0.2, 7.6, 4.14, 143.4, 0.0, 0.88, 5284.49, 349.65]}],\n",
       "                        {\"geo\": {\"showcoastlines\": true}, \"template\": {\"data\": {\"bar\": [{\"error_x\": {\"color\": \"#2a3f5f\"}, \"error_y\": {\"color\": \"#2a3f5f\"}, \"marker\": {\"line\": {\"color\": \"#E5ECF6\", \"width\": 0.5}}, \"type\": \"bar\"}], \"barpolar\": [{\"marker\": {\"line\": {\"color\": \"#E5ECF6\", \"width\": 0.5}}, \"type\": \"barpolar\"}], \"carpet\": [{\"aaxis\": {\"endlinecolor\": \"#2a3f5f\", \"gridcolor\": \"white\", \"linecolor\": \"white\", \"minorgridcolor\": \"white\", \"startlinecolor\": \"#2a3f5f\"}, \"baxis\": {\"endlinecolor\": \"#2a3f5f\", \"gridcolor\": \"white\", \"linecolor\": \"white\", \"minorgridcolor\": \"white\", \"startlinecolor\": \"#2a3f5f\"}, \"type\": \"carpet\"}], \"choropleth\": [{\"colorbar\": {\"outlinewidth\": 0, \"ticks\": \"\"}, \"type\": \"choropleth\"}], \"contour\": [{\"colorbar\": {\"outlinewidth\": 0, \"ticks\": \"\"}, \"colorscale\": [[0.0, \"#0d0887\"], [0.1111111111111111, \"#46039f\"], [0.2222222222222222, \"#7201a8\"], [0.3333333333333333, \"#9c179e\"], [0.4444444444444444, \"#bd3786\"], [0.5555555555555556, \"#d8576b\"], [0.6666666666666666, \"#ed7953\"], [0.7777777777777778, \"#fb9f3a\"], [0.8888888888888888, \"#fdca26\"], [1.0, \"#f0f921\"]], \"type\": \"contour\"}], \"contourcarpet\": [{\"colorbar\": {\"outlinewidth\": 0, \"ticks\": \"\"}, \"type\": \"contourcarpet\"}], \"heatmap\": [{\"colorbar\": {\"outlinewidth\": 0, \"ticks\": \"\"}, \"colorscale\": [[0.0, \"#0d0887\"], [0.1111111111111111, \"#46039f\"], [0.2222222222222222, \"#7201a8\"], [0.3333333333333333, \"#9c179e\"], [0.4444444444444444, \"#bd3786\"], [0.5555555555555556, \"#d8576b\"], [0.6666666666666666, \"#ed7953\"], [0.7777777777777778, \"#fb9f3a\"], [0.8888888888888888, \"#fdca26\"], [1.0, \"#f0f921\"]], \"type\": \"heatmap\"}], \"heatmapgl\": [{\"colorbar\": {\"outlinewidth\": 0, \"ticks\": \"\"}, \"colorscale\": [[0.0, \"#0d0887\"], [0.1111111111111111, \"#46039f\"], [0.2222222222222222, \"#7201a8\"], [0.3333333333333333, \"#9c179e\"], [0.4444444444444444, \"#bd3786\"], [0.5555555555555556, \"#d8576b\"], [0.6666666666666666, \"#ed7953\"], [0.7777777777777778, \"#fb9f3a\"], [0.8888888888888888, \"#fdca26\"], [1.0, \"#f0f921\"]], \"type\": \"heatmapgl\"}], \"histogram\": [{\"marker\": {\"colorbar\": {\"outlinewidth\": 0, \"ticks\": \"\"}}, \"type\": \"histogram\"}], \"histogram2d\": [{\"colorbar\": {\"outlinewidth\": 0, \"ticks\": \"\"}, \"colorscale\": [[0.0, \"#0d0887\"], [0.1111111111111111, \"#46039f\"], [0.2222222222222222, \"#7201a8\"], [0.3333333333333333, \"#9c179e\"], [0.4444444444444444, \"#bd3786\"], [0.5555555555555556, \"#d8576b\"], [0.6666666666666666, \"#ed7953\"], [0.7777777777777778, \"#fb9f3a\"], [0.8888888888888888, \"#fdca26\"], [1.0, \"#f0f921\"]], \"type\": \"histogram2d\"}], \"histogram2dcontour\": [{\"colorbar\": {\"outlinewidth\": 0, \"ticks\": \"\"}, \"colorscale\": [[0.0, \"#0d0887\"], [0.1111111111111111, \"#46039f\"], [0.2222222222222222, \"#7201a8\"], [0.3333333333333333, \"#9c179e\"], [0.4444444444444444, \"#bd3786\"], [0.5555555555555556, \"#d8576b\"], [0.6666666666666666, \"#ed7953\"], [0.7777777777777778, \"#fb9f3a\"], [0.8888888888888888, \"#fdca26\"], [1.0, \"#f0f921\"]], \"type\": \"histogram2dcontour\"}], \"mesh3d\": [{\"colorbar\": {\"outlinewidth\": 0, \"ticks\": \"\"}, \"type\": \"mesh3d\"}], \"parcoords\": [{\"line\": {\"colorbar\": {\"outlinewidth\": 0, \"ticks\": \"\"}}, \"type\": \"parcoords\"}], \"pie\": [{\"automargin\": true, \"type\": \"pie\"}], \"scatter\": [{\"marker\": {\"colorbar\": {\"outlinewidth\": 0, \"ticks\": \"\"}}, \"type\": \"scatter\"}], \"scatter3d\": [{\"line\": {\"colorbar\": {\"outlinewidth\": 0, \"ticks\": \"\"}}, \"marker\": {\"colorbar\": {\"outlinewidth\": 0, \"ticks\": \"\"}}, \"type\": \"scatter3d\"}], \"scattercarpet\": [{\"marker\": {\"colorbar\": {\"outlinewidth\": 0, \"ticks\": \"\"}}, \"type\": \"scattercarpet\"}], \"scattergeo\": [{\"marker\": {\"colorbar\": {\"outlinewidth\": 0, \"ticks\": \"\"}}, \"type\": \"scattergeo\"}], \"scattergl\": [{\"marker\": {\"colorbar\": {\"outlinewidth\": 0, \"ticks\": \"\"}}, \"type\": \"scattergl\"}], \"scattermapbox\": [{\"marker\": {\"colorbar\": {\"outlinewidth\": 0, \"ticks\": \"\"}}, \"type\": \"scattermapbox\"}], \"scatterpolar\": [{\"marker\": {\"colorbar\": {\"outlinewidth\": 0, \"ticks\": \"\"}}, \"type\": \"scatterpolar\"}], \"scatterpolargl\": [{\"marker\": {\"colorbar\": {\"outlinewidth\": 0, \"ticks\": \"\"}}, \"type\": \"scatterpolargl\"}], \"scatterternary\": [{\"marker\": {\"colorbar\": {\"outlinewidth\": 0, \"ticks\": \"\"}}, \"type\": \"scatterternary\"}], \"surface\": [{\"colorbar\": {\"outlinewidth\": 0, \"ticks\": \"\"}, \"colorscale\": [[0.0, \"#0d0887\"], [0.1111111111111111, \"#46039f\"], [0.2222222222222222, \"#7201a8\"], [0.3333333333333333, \"#9c179e\"], [0.4444444444444444, \"#bd3786\"], [0.5555555555555556, \"#d8576b\"], [0.6666666666666666, \"#ed7953\"], [0.7777777777777778, \"#fb9f3a\"], [0.8888888888888888, \"#fdca26\"], [1.0, \"#f0f921\"]], \"type\": \"surface\"}], \"table\": [{\"cells\": {\"fill\": {\"color\": \"#EBF0F8\"}, \"line\": {\"color\": \"white\"}}, \"header\": {\"fill\": {\"color\": \"#C8D4E3\"}, \"line\": {\"color\": \"white\"}}, \"type\": \"table\"}]}, \"layout\": {\"annotationdefaults\": {\"arrowcolor\": \"#2a3f5f\", \"arrowhead\": 0, \"arrowwidth\": 1}, \"coloraxis\": {\"colorbar\": {\"outlinewidth\": 0, \"ticks\": \"\"}}, \"colorscale\": {\"diverging\": [[0, \"#8e0152\"], [0.1, \"#c51b7d\"], [0.2, \"#de77ae\"], [0.3, \"#f1b6da\"], [0.4, \"#fde0ef\"], [0.5, \"#f7f7f7\"], [0.6, \"#e6f5d0\"], [0.7, \"#b8e186\"], [0.8, \"#7fbc41\"], [0.9, \"#4d9221\"], [1, \"#276419\"]], \"sequential\": [[0.0, \"#0d0887\"], [0.1111111111111111, \"#46039f\"], [0.2222222222222222, \"#7201a8\"], [0.3333333333333333, \"#9c179e\"], [0.4444444444444444, \"#bd3786\"], [0.5555555555555556, \"#d8576b\"], [0.6666666666666666, \"#ed7953\"], [0.7777777777777778, \"#fb9f3a\"], [0.8888888888888888, \"#fdca26\"], [1.0, \"#f0f921\"]], \"sequentialminus\": [[0.0, \"#0d0887\"], [0.1111111111111111, \"#46039f\"], [0.2222222222222222, \"#7201a8\"], [0.3333333333333333, \"#9c179e\"], [0.4444444444444444, \"#bd3786\"], [0.5555555555555556, \"#d8576b\"], [0.6666666666666666, \"#ed7953\"], [0.7777777777777778, \"#fb9f3a\"], [0.8888888888888888, \"#fdca26\"], [1.0, \"#f0f921\"]]}, \"colorway\": [\"#636efa\", \"#EF553B\", \"#00cc96\", \"#ab63fa\", \"#FFA15A\", \"#19d3f3\", \"#FF6692\", \"#B6E880\", \"#FF97FF\", \"#FECB52\"], \"font\": {\"color\": \"#2a3f5f\"}, \"geo\": {\"bgcolor\": \"white\", \"lakecolor\": \"white\", \"landcolor\": \"#E5ECF6\", \"showlakes\": true, \"showland\": true, \"subunitcolor\": \"white\"}, \"hoverlabel\": {\"align\": \"left\"}, \"hovermode\": \"closest\", \"mapbox\": {\"style\": \"light\"}, \"paper_bgcolor\": \"white\", \"plot_bgcolor\": \"#E5ECF6\", \"polar\": {\"angularaxis\": {\"gridcolor\": \"white\", \"linecolor\": \"white\", \"ticks\": \"\"}, \"bgcolor\": \"#E5ECF6\", \"radialaxis\": {\"gridcolor\": \"white\", \"linecolor\": \"white\", \"ticks\": \"\"}}, \"scene\": {\"xaxis\": {\"backgroundcolor\": \"#E5ECF6\", \"gridcolor\": \"white\", \"gridwidth\": 2, \"linecolor\": \"white\", \"showbackground\": true, \"ticks\": \"\", \"zerolinecolor\": \"white\"}, \"yaxis\": {\"backgroundcolor\": \"#E5ECF6\", \"gridcolor\": \"white\", \"gridwidth\": 2, \"linecolor\": \"white\", \"showbackground\": true, \"ticks\": \"\", \"zerolinecolor\": \"white\"}, \"zaxis\": {\"backgroundcolor\": \"#E5ECF6\", \"gridcolor\": \"white\", \"gridwidth\": 2, \"linecolor\": \"white\", \"showbackground\": true, \"ticks\": \"\", \"zerolinecolor\": \"white\"}}, \"shapedefaults\": {\"line\": {\"color\": \"#2a3f5f\"}}, \"ternary\": {\"aaxis\": {\"gridcolor\": \"white\", \"linecolor\": \"white\", \"ticks\": \"\"}, \"baxis\": {\"gridcolor\": \"white\", \"linecolor\": \"white\", \"ticks\": \"\"}, \"bgcolor\": \"#E5ECF6\", \"caxis\": {\"gridcolor\": \"white\", \"linecolor\": \"white\", \"ticks\": \"\"}}, \"title\": {\"x\": 0.05}, \"xaxis\": {\"automargin\": true, \"gridcolor\": \"white\", \"linecolor\": \"white\", \"ticks\": \"\", \"title\": {\"standoff\": 15}, \"zerolinecolor\": \"white\", \"zerolinewidth\": 2}, \"yaxis\": {\"automargin\": true, \"gridcolor\": \"white\", \"linecolor\": \"white\", \"ticks\": \"\", \"title\": {\"standoff\": 15}, \"zerolinecolor\": \"white\", \"zerolinewidth\": 2}}}, \"title\": {\"text\": \"Average under 5 malaria deaths by country: 1990-2016\"}},\n",
       "                        {\"responsive\": true}\n",
       "                    ).then(function(){\n",
       "                            \n",
       "var gd = document.getElementById('4846224f-2779-47a5-bee1-85d60788810f');\n",
       "var x = new MutationObserver(function (mutations, observer) {{\n",
       "        var display = window.getComputedStyle(gd).display;\n",
       "        if (!display || display === 'none') {{\n",
       "            console.log([gd, 'removed!']);\n",
       "            Plotly.purge(gd);\n",
       "            observer.disconnect();\n",
       "        }}\n",
       "}});\n",
       "\n",
       "// Listen for the removal of the full notebook cells\n",
       "var notebookContainer = gd.closest('#notebook-container');\n",
       "if (notebookContainer) {{\n",
       "    x.observe(notebookContainer, {childList: true});\n",
       "}}\n",
       "\n",
       "// Listen for the clearing of the current output cell\n",
       "var outputEl = gd.closest('.output');\n",
       "if (outputEl) {{\n",
       "    x.observe(outputEl, {childList: true});\n",
       "}}\n",
       "\n",
       "                        })\n",
       "                };\n",
       "                });\n",
       "            </script>\n",
       "        </div>"
      ]
     },
     "metadata": {},
     "output_type": "display_data"
    }
   ],
   "source": [
    "fig = go.Figure(data=go.Choropleth(\n",
    "    locationmode = \"country names\",\n",
    "    locations = malaria_under5_avg_deaths[\"entity\"],\n",
    "    z = malaria_under5_avg_deaths[\"deaths\"],\n",
    "    text = malaria_under5_avg_deaths[\"text\"],\n",
    "    autocolorscale=True,\n",
    "    reversescale=False,\n",
    "    colorbar_title = 'Average under 5 malaria deaths',\n",
    "))\n",
    "\n",
    "fig.update_layout(\n",
    "    title_text='Average under 5 malaria deaths by country: 1990-2016',\n",
    "    geo=dict(\n",
    "        showcoastlines=True,\n",
    "    ),\n",
    ")"
   ]
  },
  {
   "cell_type": "markdown",
   "metadata": {},
   "source": [
    "It's really hard to see many of the values, because the majority of countries have considerably lower malaria deaths than those of"
   ]
  },
  {
   "cell_type": "code",
   "execution_count": null,
   "metadata": {},
   "outputs": [],
   "source": []
  },
  {
   "cell_type": "code",
   "execution_count": null,
   "metadata": {},
   "outputs": [],
   "source": []
  },
  {
   "cell_type": "code",
   "execution_count": null,
   "metadata": {},
   "outputs": [],
   "source": []
  },
  {
   "cell_type": "code",
   "execution_count": null,
   "metadata": {},
   "outputs": [],
   "source": []
  },
  {
   "cell_type": "code",
   "execution_count": null,
   "metadata": {},
   "outputs": [],
   "source": []
  }
 ],
 "metadata": {
  "kernelspec": {
   "display_name": "Python 3",
   "language": "python",
   "name": "python3"
  },
  "language_info": {
   "codemirror_mode": {
    "name": "ipython",
    "version": 3
   },
   "file_extension": ".py",
   "mimetype": "text/x-python",
   "name": "python",
   "nbconvert_exporter": "python",
   "pygments_lexer": "ipython3",
   "version": "3.7.5"
  }
 },
 "nbformat": 4,
 "nbformat_minor": 2
}
