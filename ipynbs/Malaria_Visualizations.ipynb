{
 "cells": [
  {
   "cell_type": "markdown",
   "metadata": {},
   "source": [
    "## Tidy Tuesday: Malaria dataset visualizations \n",
    "\n",
    "Some plots from [this tidy Tuesday](https://github.com/rfordatascience/tidytuesday/tree/master/data/2018/2018-11-13) data set.\n",
    "\n",
    "October 2nd, 2020\n",
    "\n",
    "-----------"
   ]
  },
  {
   "cell_type": "markdown",
   "metadata": {},
   "source": [
    "### 0. Setup and Get Data "
   ]
  },
  {
   "cell_type": "code",
   "execution_count": 1,
   "metadata": {},
   "outputs": [],
   "source": [
    "%matplotlib inline \n",
    "import pandas as pd \n",
    "import seaborn as sns \n",
    "import plotly.graph_objects as go\n",
    "import plotly.io as pio\n",
    "pio.renderers.default = \"notebook\""
   ]
  },
  {
   "cell_type": "code",
   "execution_count": 2,
   "metadata": {},
   "outputs": [
    {
     "data": {
      "text/html": [
       "<div>\n",
       "<style scoped>\n",
       "    .dataframe tbody tr th:only-of-type {\n",
       "        vertical-align: middle;\n",
       "    }\n",
       "\n",
       "    .dataframe tbody tr th {\n",
       "        vertical-align: top;\n",
       "    }\n",
       "\n",
       "    .dataframe thead th {\n",
       "        text-align: right;\n",
       "    }\n",
       "</style>\n",
       "<table border=\"1\" class=\"dataframe\">\n",
       "  <thead>\n",
       "    <tr style=\"text-align: right;\">\n",
       "      <th></th>\n",
       "      <th>Unnamed: 0</th>\n",
       "      <th>entity</th>\n",
       "      <th>code</th>\n",
       "      <th>year</th>\n",
       "      <th>age_group</th>\n",
       "      <th>deaths</th>\n",
       "    </tr>\n",
       "  </thead>\n",
       "  <tbody>\n",
       "    <tr>\n",
       "      <th>0</th>\n",
       "      <td>1</td>\n",
       "      <td>Afghanistan</td>\n",
       "      <td>AFG</td>\n",
       "      <td>1990</td>\n",
       "      <td>Under 5</td>\n",
       "      <td>184.606435</td>\n",
       "    </tr>\n",
       "    <tr>\n",
       "      <th>1</th>\n",
       "      <td>2</td>\n",
       "      <td>Afghanistan</td>\n",
       "      <td>AFG</td>\n",
       "      <td>1991</td>\n",
       "      <td>Under 5</td>\n",
       "      <td>191.658193</td>\n",
       "    </tr>\n",
       "    <tr>\n",
       "      <th>2</th>\n",
       "      <td>3</td>\n",
       "      <td>Afghanistan</td>\n",
       "      <td>AFG</td>\n",
       "      <td>1992</td>\n",
       "      <td>Under 5</td>\n",
       "      <td>197.140197</td>\n",
       "    </tr>\n",
       "    <tr>\n",
       "      <th>3</th>\n",
       "      <td>4</td>\n",
       "      <td>Afghanistan</td>\n",
       "      <td>AFG</td>\n",
       "      <td>1993</td>\n",
       "      <td>Under 5</td>\n",
       "      <td>207.357753</td>\n",
       "    </tr>\n",
       "    <tr>\n",
       "      <th>4</th>\n",
       "      <td>5</td>\n",
       "      <td>Afghanistan</td>\n",
       "      <td>AFG</td>\n",
       "      <td>1994</td>\n",
       "      <td>Under 5</td>\n",
       "      <td>226.209363</td>\n",
       "    </tr>\n",
       "    <tr>\n",
       "      <th>...</th>\n",
       "      <td>...</td>\n",
       "      <td>...</td>\n",
       "      <td>...</td>\n",
       "      <td>...</td>\n",
       "      <td>...</td>\n",
       "      <td>...</td>\n",
       "    </tr>\n",
       "    <tr>\n",
       "      <th>30775</th>\n",
       "      <td>30776</td>\n",
       "      <td>Zimbabwe</td>\n",
       "      <td>ZWE</td>\n",
       "      <td>2012</td>\n",
       "      <td>50-69</td>\n",
       "      <td>103.185111</td>\n",
       "    </tr>\n",
       "    <tr>\n",
       "      <th>30776</th>\n",
       "      <td>30777</td>\n",
       "      <td>Zimbabwe</td>\n",
       "      <td>ZWE</td>\n",
       "      <td>2013</td>\n",
       "      <td>50-69</td>\n",
       "      <td>100.113293</td>\n",
       "    </tr>\n",
       "    <tr>\n",
       "      <th>30777</th>\n",
       "      <td>30778</td>\n",
       "      <td>Zimbabwe</td>\n",
       "      <td>ZWE</td>\n",
       "      <td>2014</td>\n",
       "      <td>50-69</td>\n",
       "      <td>99.013890</td>\n",
       "    </tr>\n",
       "    <tr>\n",
       "      <th>30778</th>\n",
       "      <td>30779</td>\n",
       "      <td>Zimbabwe</td>\n",
       "      <td>ZWE</td>\n",
       "      <td>2015</td>\n",
       "      <td>50-69</td>\n",
       "      <td>98.091738</td>\n",
       "    </tr>\n",
       "    <tr>\n",
       "      <th>30779</th>\n",
       "      <td>30780</td>\n",
       "      <td>Zimbabwe</td>\n",
       "      <td>ZWE</td>\n",
       "      <td>2016</td>\n",
       "      <td>50-69</td>\n",
       "      <td>97.402058</td>\n",
       "    </tr>\n",
       "  </tbody>\n",
       "</table>\n",
       "<p>30780 rows × 6 columns</p>\n",
       "</div>"
      ],
      "text/plain": [
       "       Unnamed: 0       entity code  year age_group      deaths\n",
       "0               1  Afghanistan  AFG  1990   Under 5  184.606435\n",
       "1               2  Afghanistan  AFG  1991   Under 5  191.658193\n",
       "2               3  Afghanistan  AFG  1992   Under 5  197.140197\n",
       "3               4  Afghanistan  AFG  1993   Under 5  207.357753\n",
       "4               5  Afghanistan  AFG  1994   Under 5  226.209363\n",
       "...           ...          ...  ...   ...       ...         ...\n",
       "30775       30776     Zimbabwe  ZWE  2012     50-69  103.185111\n",
       "30776       30777     Zimbabwe  ZWE  2013     50-69  100.113293\n",
       "30777       30778     Zimbabwe  ZWE  2014     50-69   99.013890\n",
       "30778       30779     Zimbabwe  ZWE  2015     50-69   98.091738\n",
       "30779       30780     Zimbabwe  ZWE  2016     50-69   97.402058\n",
       "\n",
       "[30780 rows x 6 columns]"
      ]
     },
     "execution_count": 2,
     "metadata": {},
     "output_type": "execute_result"
    }
   ],
   "source": [
    "# Looking at the dataset corresponding to Malaria deaths by age across\n",
    "# the world and time. \n",
    "malaria_deaths_url = \"https://raw.githubusercontent.com/rfordatascience/tidytuesday/master/data/2018/2018-11-13/malaria_deaths_age.csv\"\n",
    "malaria_deaths_df = pd.read_csv(malaria_deaths_url)\n",
    "malaria_deaths_df"
   ]
  },
  {
   "cell_type": "markdown",
   "metadata": {},
   "source": [
    "### 1. How much do malaria deaths change across age groups by year?"
   ]
  },
  {
   "cell_type": "code",
   "execution_count": 3,
   "metadata": {},
   "outputs": [
    {
     "data": {
      "text/plain": [
       "array(['Under 5', '70 or older', '5-14', '15-49', '50-69'], dtype=object)"
      ]
     },
     "execution_count": 3,
     "metadata": {},
     "output_type": "execute_result"
    }
   ],
   "source": [
    "# First, what are the age groups? \n",
    "malaria_deaths_df[\"age_group\"].unique()"
   ]
  },
  {
   "cell_type": "code",
   "execution_count": 4,
   "metadata": {},
   "outputs": [
    {
     "data": {
      "text/plain": [
       "Text(0.5, 1.0, 'Malaria deaths across time, by age group')"
      ]
     },
     "execution_count": 4,
     "metadata": {},
     "output_type": "execute_result"
    },
    {
     "data": {
      "image/png": "[encoded data removed]",
      "text/plain": [
       "<Figure size 432x288 with 1 Axes>"
      ]
     },
     "metadata": {
      "needs_background": "light"
     },
     "output_type": "display_data"
    }
   ],
   "source": [
    "# orders for age group, so they make sense\n",
    "age_orders = [\"Under 5\", \"5-14\", \"15-49\", \"50-69\", \"70 or older\"]\n",
    "(\n",
    "    sns.\n",
    "    lineplot(x=\"year\", y=\"deaths\",\n",
    "             hue=\"age_group\", \n",
    "             hue_order = age_orders,\n",
    "             palette=\"bright\",\n",
    "             data=malaria_deaths_df).\n",
    "    set_title(\"Malaria deaths across time, by age group\")\n",
    ")"
   ]
  },
  {
   "cell_type": "markdown",
   "metadata": {},
   "source": [
    "Wow, deaths in the \"Under 5\" age group seem disproportionately high. We can see in the plot above that there is some variation by year, but on the whole deaths in the under 5 group range between 12,000-15,000 or so. So, let's take the average in the under 5 age group and see if there are any patterns by country. "
   ]
  },
  {
   "cell_type": "markdown",
   "metadata": {},
   "source": [
    "### 2. How does average death rate in the under 5 age group vary by country? \n",
    "\n",
    "First, what are the countries represented? Any non-countries included in the country column? "
   ]
  },
  {
   "cell_type": "code",
   "execution_count": 5,
   "metadata": {},
   "outputs": [
    {
     "data": {
      "text/plain": [
       "array(['Afghanistan', 'Albania', 'Algeria', 'American Samoa',\n",
       "       'Andean Latin America', 'Andorra', 'Angola', 'Antigua and Barbuda',\n",
       "       'Argentina', 'Armenia', 'Australasia', 'Australia', 'Austria',\n",
       "       'Azerbaijan', 'Bahamas', 'Bahrain', 'Bangladesh', 'Barbados',\n",
       "       'Belarus', 'Belgium', 'Belize', 'Benin', 'Bermuda', 'Bhutan',\n",
       "       'Bolivia', 'Bosnia and Herzegovina', 'Botswana', 'Brazil',\n",
       "       'Brunei', 'Bulgaria', 'Burkina Faso', 'Burundi', 'Cambodia',\n",
       "       'Cameroon', 'Canada', 'Cape Verde', 'Caribbean',\n",
       "       'Central African Republic', 'Central Asia', 'Central Europe',\n",
       "       'Central Latin America', 'Central Sub-Saharan Africa', 'Chad',\n",
       "       'Chile', 'China', 'Colombia', 'Comoros', 'Congo', 'Costa Rica',\n",
       "       \"Cote d'Ivoire\", 'Croatia', 'Cuba', 'Cyprus', 'Czech Republic',\n",
       "       'Democratic Republic of Congo', 'Denmark', 'Djibouti', 'Dominica',\n",
       "       'Dominican Republic', 'East Asia', 'Eastern Europe',\n",
       "       'Eastern Sub-Saharan Africa', 'Ecuador', 'Egypt', 'El Salvador',\n",
       "       'England', 'Equatorial Guinea', 'Eritrea', 'Estonia', 'Ethiopia',\n",
       "       'Fiji', 'Finland', 'France', 'Gabon', 'Gambia', 'Georgia',\n",
       "       'Germany', 'Ghana', 'Greece', 'Greenland', 'Grenada', 'Guam',\n",
       "       'Guatemala', 'Guinea', 'Guinea-Bissau', 'Guyana', 'Haiti',\n",
       "       'High SDI', 'High-income Asia Pacific', 'High-middle SDI',\n",
       "       'Honduras', 'Hungary', 'Iceland', 'India', 'Indonesia', 'Iran',\n",
       "       'Iraq', 'Ireland', 'Israel', 'Italy', 'Jamaica', 'Japan', 'Jordan',\n",
       "       'Kazakhstan', 'Kenya', 'Kiribati', 'Kuwait', 'Kyrgyzstan', 'Laos',\n",
       "       'Latin America and Caribbean', 'Latvia', 'Lebanon', 'Lesotho',\n",
       "       'Liberia', 'Libya', 'Lithuania', 'Low SDI', 'Low-middle SDI',\n",
       "       'Luxembourg', 'Macedonia', 'Madagascar', 'Malawi', 'Malaysia',\n",
       "       'Maldives', 'Mali', 'Malta', 'Marshall Islands', 'Mauritania',\n",
       "       'Mauritius', 'Mexico', 'Micronesia (country)', 'Middle SDI',\n",
       "       'Moldova', 'Mongolia', 'Montenegro', 'Morocco', 'Mozambique',\n",
       "       'Myanmar', 'Namibia', 'Nepal', 'Netherlands', 'New Zealand',\n",
       "       'Nicaragua', 'Niger', 'Nigeria', 'North Africa and Middle East',\n",
       "       'North America', 'North Korea', 'Northern Ireland',\n",
       "       'Northern Mariana Islands', 'Norway', 'Oceania', 'Oman',\n",
       "       'Pakistan', 'Palestine', 'Panama', 'Papua New Guinea', 'Paraguay',\n",
       "       'Peru', 'Philippines', 'Poland', 'Portugal', 'Puerto Rico',\n",
       "       'Qatar', 'Romania', 'Russia', 'Rwanda', 'Saint Lucia',\n",
       "       'Saint Vincent and the Grenadines', 'Samoa',\n",
       "       'Sao Tome and Principe', 'Saudi Arabia', 'Scotland', 'Senegal',\n",
       "       'Serbia', 'Seychelles', 'Sierra Leone', 'Singapore', 'Slovakia',\n",
       "       'Slovenia', 'Solomon Islands', 'Somalia', 'South Africa',\n",
       "       'South Asia', 'South Korea', 'South Sudan', 'Southeast Asia',\n",
       "       'Southern Latin America', 'Southern Sub-Saharan Africa', 'Spain',\n",
       "       'Sri Lanka', 'Sub-Saharan Africa', 'Sudan', 'Suriname',\n",
       "       'Swaziland', 'Sweden', 'Switzerland', 'Syria', 'Taiwan',\n",
       "       'Tajikistan', 'Tanzania', 'Thailand', 'Timor', 'Togo', 'Tonga',\n",
       "       'Trinidad and Tobago', 'Tropical Latin America', 'Tunisia',\n",
       "       'Turkey', 'Turkmenistan', 'Uganda', 'Ukraine',\n",
       "       'United Arab Emirates', 'United Kingdom', 'United States',\n",
       "       'United States Virgin Islands', 'Uruguay', 'Uzbekistan', 'Vanuatu',\n",
       "       'Venezuela', 'Vietnam', 'Wales', 'Western Europe',\n",
       "       'Western Sub-Saharan Africa', 'World', 'Yemen', 'Zambia',\n",
       "       'Zimbabwe'], dtype=object)"
      ]
     },
     "execution_count": 5,
     "metadata": {},
     "output_type": "execute_result"
    }
   ],
   "source": [
    "malaria_deaths_df[\"entity\"].unique()"
   ]
  },
  {
   "cell_type": "markdown",
   "metadata": {},
   "source": [
    "Mostly seems fine, but let's exclude regions (eg. \"World\", \"Sub-Saharan Africa\", etc) since we just want to look at this by country. We also need to reorganize the data a little, because we only want the under 5 data, and we want it averaged by year. "
   ]
  },
  {
   "cell_type": "code",
   "execution_count": 6,
   "metadata": {},
   "outputs": [],
   "source": [
    "# Get under 5 data only \n",
    "malaria_under5_deaths = malaria_deaths_df.loc[malaria_deaths_df[\"age_group\"] == \"Under 5\"]\n",
    "\n",
    "# Remove regions from the \"entity\" (ie. country) column \n",
    "regions_to_exclude = [\"Andean Latin America\",\n",
    "                      \"Australasia\",\n",
    "                      \"Central Asia\", \n",
    "                      \"Central Europe\",\n",
    "                      \"Central Latin America\", \n",
    "                      \"Central Sub-Saharan Africa\",\n",
    "                      \"East Asia\", \n",
    "                      \"Eastern Europe\",\n",
    "                      \"Eastern Sub-Saharan Africa\",\n",
    "                      \"High SDI\", \n",
    "                      \"High-income Asia Pacific\", \n",
    "                      \"High-middle SDI\",\n",
    "                      \"Latin America and Caribbean\",\n",
    "                      \"Low SDI\", \n",
    "                      \"Low-middle SDI\",\n",
    "                      \"Middle SDI\",\n",
    "                      \"North Africa and Middle East\",\n",
    "                      \"North America\",\n",
    "                      \"South Asia\",\n",
    "                      \"Southeast Asia\",\n",
    "                      \"Southern Latin America\", \n",
    "                      \"Southern Sub-Saharan Africa\",\n",
    "                      \"Sub-Saharan Africa\",\n",
    "                      \"Tropical Latin America\",\n",
    "                      \"Western Europe\",\n",
    "                      \"Western Sub-Saharan Africa\",\n",
    "                      \"World\"]\n",
    "malaria_under5_deaths = malaria_under5_deaths.loc[~malaria_under5_deaths[\"entity\"].isin(regions_to_exclude)]\n",
    "\n",
    "# Get the average number of deaths by country\n",
    "malaria_under5_avg_deaths = malaria_under5_deaths.groupby(\"entity\").mean()"
   ]
  },
  {
   "cell_type": "markdown",
   "metadata": {},
   "source": [
    "Let's reset the index (we need it as a column), round the number of deaths for readability, and add a `text` column (for what is shown upon hover) combining the Country and average death values: "
   ]
  },
  {
   "cell_type": "code",
   "execution_count": 7,
   "metadata": {},
   "outputs": [
    {
     "data": {
      "text/html": [
       "<div>\n",
       "<style scoped>\n",
       "    .dataframe tbody tr th:only-of-type {\n",
       "        vertical-align: middle;\n",
       "    }\n",
       "\n",
       "    .dataframe tbody tr th {\n",
       "        vertical-align: top;\n",
       "    }\n",
       "\n",
       "    .dataframe thead th {\n",
       "        text-align: right;\n",
       "    }\n",
       "</style>\n",
       "<table border=\"1\" class=\"dataframe\">\n",
       "  <thead>\n",
       "    <tr style=\"text-align: right;\">\n",
       "      <th></th>\n",
       "      <th>entity</th>\n",
       "      <th>Unnamed: 0</th>\n",
       "      <th>year</th>\n",
       "      <th>deaths</th>\n",
       "      <th>text</th>\n",
       "    </tr>\n",
       "  </thead>\n",
       "  <tbody>\n",
       "    <tr>\n",
       "      <th>0</th>\n",
       "      <td>Afghanistan</td>\n",
       "      <td>14</td>\n",
       "      <td>2003</td>\n",
       "      <td>315.89</td>\n",
       "      <td>Afghanistan: 315.89</td>\n",
       "    </tr>\n",
       "    <tr>\n",
       "      <th>1</th>\n",
       "      <td>Albania</td>\n",
       "      <td>41</td>\n",
       "      <td>2003</td>\n",
       "      <td>0.00</td>\n",
       "      <td>Albania: 0.0</td>\n",
       "    </tr>\n",
       "    <tr>\n",
       "      <th>2</th>\n",
       "      <td>Algeria</td>\n",
       "      <td>68</td>\n",
       "      <td>2003</td>\n",
       "      <td>0.50</td>\n",
       "      <td>Algeria: 0.5</td>\n",
       "    </tr>\n",
       "    <tr>\n",
       "      <th>3</th>\n",
       "      <td>American Samoa</td>\n",
       "      <td>95</td>\n",
       "      <td>2003</td>\n",
       "      <td>0.00</td>\n",
       "      <td>American Samoa: 0.0</td>\n",
       "    </tr>\n",
       "    <tr>\n",
       "      <th>4</th>\n",
       "      <td>Andorra</td>\n",
       "      <td>149</td>\n",
       "      <td>2003</td>\n",
       "      <td>0.00</td>\n",
       "      <td>Andorra: 0.0</td>\n",
       "    </tr>\n",
       "  </tbody>\n",
       "</table>\n",
       "</div>"
      ],
      "text/plain": [
       "           entity  Unnamed: 0  year  deaths                 text\n",
       "0     Afghanistan          14  2003  315.89  Afghanistan: 315.89\n",
       "1         Albania          41  2003    0.00         Albania: 0.0\n",
       "2         Algeria          68  2003    0.50         Algeria: 0.5\n",
       "3  American Samoa          95  2003    0.00  American Samoa: 0.0\n",
       "4         Andorra         149  2003    0.00         Andorra: 0.0"
      ]
     },
     "execution_count": 7,
     "metadata": {},
     "output_type": "execute_result"
    }
   ],
   "source": [
    "malaria_under5_avg_deaths.reset_index(inplace=True)\n",
    "malaria_under5_avg_deaths = malaria_under5_avg_deaths.round(2)\n",
    "malaria_under5_avg_deaths[\"text\"] = malaria_under5_avg_deaths[\"entity\"] + \": \" + malaria_under5_avg_deaths[\"deaths\"].astype(str)\n",
    "malaria_under5_avg_deaths.head()"
   ]
  },
  {
   "cell_type": "code",
   "execution_count": 8,
   "metadata": {},
   "outputs": [
    {
     "data": {
      "text/html": [
       "<div>\n",
       "<style scoped>\n",
       "    .dataframe tbody tr th:only-of-type {\n",
       "        vertical-align: middle;\n",
       "    }\n",
       "\n",
       "    .dataframe tbody tr th {\n",
       "        vertical-align: top;\n",
       "    }\n",
       "\n",
       "    .dataframe thead th {\n",
       "        text-align: right;\n",
       "    }\n",
       "</style>\n",
       "<table border=\"1\" class=\"dataframe\">\n",
       "  <thead>\n",
       "    <tr style=\"text-align: right;\">\n",
       "      <th></th>\n",
       "      <th>Unnamed: 0</th>\n",
       "      <th>entity</th>\n",
       "      <th>code</th>\n",
       "      <th>year</th>\n",
       "      <th>age_group</th>\n",
       "      <th>deaths</th>\n",
       "    </tr>\n",
       "  </thead>\n",
       "  <tbody>\n",
       "    <tr>\n",
       "      <th>3906</th>\n",
       "      <td>3907</td>\n",
       "      <td>Nigeria</td>\n",
       "      <td>NGA</td>\n",
       "      <td>2008</td>\n",
       "      <td>Under 5</td>\n",
       "      <td>261794.558211</td>\n",
       "    </tr>\n",
       "  </tbody>\n",
       "</table>\n",
       "</div>"
      ],
      "text/plain": [
       "      Unnamed: 0   entity code  year age_group         deaths\n",
       "3906        3907  Nigeria  NGA  2008   Under 5  261794.558211"
      ]
     },
     "execution_count": 8,
     "metadata": {},
     "output_type": "execute_result"
    }
   ],
   "source": [
    "malaria_under5_deaths.loc[malaria_under5_deaths[\"deaths\"] == malaria_under5_deaths[\"deaths\"].max()]"
   ]
  },
  {
   "cell_type": "code",
   "execution_count": 12,
   "metadata": {},
   "outputs": [
    {
     "data": {
      "text/plain": [
       "'/Users/oana/Documents/github/oena.github.io/ipynbs'"
      ]
     },
     "execution_count": 12,
     "metadata": {},
     "output_type": "execute_result"
    }
   ],
   "source": [
    "import os \n",
    "os.getcwd()"
   ]
  },
  {
   "cell_type": "code",
   "execution_count": 13,
   "metadata": {},
   "outputs": [],
   "source": [
    "fig = go.Figure(data=go.Choropleth(\n",
    "    locationmode = \"country names\",\n",
    "    locations = malaria_under5_avg_deaths[\"entity\"],\n",
    "    z = malaria_under5_avg_deaths[\"deaths\"],\n",
    "    text = malaria_under5_avg_deaths[\"text\"],\n",
    "    autocolorscale=True,\n",
    "    reversescale=False,\n",
    "    colorbar_title = 'Average under 5 malaria deaths',\n",
    "))\n",
    "\n",
    "fig.update_layout(\n",
    "    title_text='Average under 5 malaria deaths by country: 1990-2016',\n",
    "    geo=dict(\n",
    "        showcoastlines=True,\n",
    "    ),\n",
    ")\n",
    "# Write to html so you can see it outside of this notebook \n",
    "fig.write_html(\"/Users/oana/Documents/github/oena.github.io/assets/html/world_malaria_map.html\")"
   ]
  },
  {
   "cell_type": "markdown",
   "metadata": {},
   "source": [
    "It's very clear from this plot that Nigeria has far and away more cases of malaria in children under 5 than any other country in the world; unsurprisingly (given that malaria is spread through mosquitos), geographically close countries like Niger, Cameroon, and Burkina Faso have high average death rates in young children too. \n",
    "\n",
    "It is worth noting that Nigeria is Africa's most populous country; so, in following up on this in more depth it would probably make sense to normalize these values by population size. However, [this health policy report](http://www.hcs.harvard.edu/epihc/currentissue/Fall2001/carrington.htm) notes that Nigeria has a number of specific issues that make malaria such a significant problem in its population: \n",
    "\n",
    "> Most of the rural areas do not have access to good health care systems. Usually there are no accessible roads to the health centers, which in turn are poorly equipped and have inadequate drugs for malaria treatment. Drug resistant malaria is common and anti malarial drugs are becoming less effective as the plasmodium parasite develops resistance to affordable drugs. This poses a serious threat to clinical management and treatment of malaria. People cannot afford anti-malarial drugs so they tend to self medicate with local herbs. Children wear little clothing during the day and at night due to heat and humidity, thus leaving their bodies exposed to mosquito bites. Rural dwellers cannot afford to purchase bed nets. Mud houses are poorly constructed and are surrounded by bushes. Water is collected from streams and wells and left standing in open clay pots since there are usually no running taps. Recommendations to Control Malaria in Rural Nigeria Within the control strategy for malaria, a multi-dimensional approach is needed.\n",
    "\n",
    "This brings us to our last question (for this visualization exercise): \n",
    "\n",
    "### 3. How similar are malaria death rates (again for the under 5 age group) in Nigeria vs. the other countries close to it over time? \n",
    "\n",
    "For this, we'll consider Cameroon, Niger, Benin, Chad, Central African Republic, Mali, Ghana, Togo, and Benin. \n",
    "\n",
    "We begin by filtering the under 5 data set to these countries only, and then correlating values over time (using Spearman correlation since the death rates are on such different scales): "
   ]
  },
  {
   "cell_type": "code",
   "execution_count": 10,
   "metadata": {},
   "outputs": [],
   "source": [
    "# Filter to relevant countries \n",
    "countries_close_to_nigeria = [\"Nigeria\",\n",
    "                              \"Cameroon\", \n",
    "                              \"Niger\", \n",
    "                              \"Benin\", \n",
    "                              \"Chad\", \n",
    "                              \"Central African Republic\", \n",
    "                              \"Mali\", \n",
    "                              \"Ghana\", \n",
    "                              \"Togo\"]\n",
    "nigeria_neighbors_under5_deaths = malaria_under5_deaths.loc[malaria_under5_deaths[\"entity\"].isin(countries_close_to_nigeria)]\n",
    "\n",
    "# Pivot data frame to wide\n",
    "nigeria_neighbors_under5_deaths = nigeria_neighbors_under5_deaths.pivot(index='year', columns='entity', values='deaths')\n",
    "\n",
    "# Correlate deaths by year across countries considered\n",
    "nigeria_neighbors_under5_cors = nigeria_neighbors_under5_deaths.corr(method=\"spearman\")"
   ]
  },
  {
   "cell_type": "code",
   "execution_count": 11,
   "metadata": {},
   "outputs": [
    {
     "data": {
      "text/plain": [
       "Text(0.5, 0.98, 'Correlation of malaria deaths: 1990-2016, children under 5')"
      ]
     },
     "execution_count": 11,
     "metadata": {},
     "output_type": "execute_result"
    },
    {
     "data": {
      "image/png": "[encoded data removed]",
      "text/plain": [
       "<Figure size 720x720 with 4 Axes>"
      ]
     },
     "metadata": {
      "needs_background": "light"
     },
     "output_type": "display_data"
    }
   ],
   "source": [
    "p =sns.clustermap(nigeria_neighbors_under5_cors, annot=True)\n",
    "p.fig.suptitle(\"Correlation of malaria deaths: 1990-2016, children under 5\") "
   ]
  },
  {
   "cell_type": "markdown",
   "metadata": {},
   "source": [
    "Unsurprisingly, all of the correlation values are fairly high; however, it's surprising that Nigeria's malaria death rates (in the under 5 age group) are most correlated with Ghana and the Central African Republic, which do not immediately border it. "
   ]
  }
 ],
 "metadata": {
  "kernelspec": {
   "display_name": "Python 3",
   "language": "python",
   "name": "python3"
  },
  "language_info": {
   "codemirror_mode": {
    "name": "ipython",
    "version": 3
   },
   "file_extension": ".py",
   "mimetype": "text/x-python",
   "name": "python",
   "nbconvert_exporter": "python",
   "pygments_lexer": "ipython3",
   "version": "3.7.5"
  }
 },
 "nbformat": 4,
 "nbformat_minor": 2
}
