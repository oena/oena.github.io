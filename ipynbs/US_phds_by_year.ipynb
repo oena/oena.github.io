{
 "cells": [
  {
   "cell_type": "markdown",
   "metadata": {},
   "source": [
    "# Exploratory analysis of PhD's given by US universities: 1958 - 2017\n",
    "\n",
    "This is just some very basic data cleaning and exploration before making a simple streamlit app, the steps of which you can find detailed [here in blog form](TODO) and [here as code](TODO).\n",
    "\n",
    "## 0. Setup  "
   ]
  },
  {
   "cell_type": "code",
   "execution_count": 1,
   "metadata": {},
   "outputs": [],
   "source": [
    "import pandas as pd \n",
    "import numpy as np \n",
    "import seaborn as sns "
   ]
  },
  {
   "cell_type": "markdown",
   "metadata": {},
   "source": [
    "## 1. Get data\n",
    "\n",
    "The data represented below were downloaded on 11/6/20 from [Table 1 here](https://ncses.nsf.gov/pubs/nsf19301/data) as an Excel file; you can find a copy of the original file (\"sed17-sr-tab001.xlsx\") in the `/assets/xlsx` folder of this directory. \n",
    "\n",
    "Let's read it in: "
   ]
  },
  {
   "cell_type": "code",
   "execution_count": 2,
   "metadata": {},
   "outputs": [],
   "source": [
    "# Skip first three rows because those just have descriptive information about table\n",
    "phd_df = pd.read_excel(\"../assets/xlsx/sed17-sr-tab001.xlsx\", skiprows=[0,1,2])"
   ]
  },
  {
   "cell_type": "code",
   "execution_count": 3,
   "metadata": {},
   "outputs": [
    {
     "data": {
      "text/html": [
       "<div>\n",
       "<style scoped>\n",
       "    .dataframe tbody tr th:only-of-type {\n",
       "        vertical-align: middle;\n",
       "    }\n",
       "\n",
       "    .dataframe tbody tr th {\n",
       "        vertical-align: top;\n",
       "    }\n",
       "\n",
       "    .dataframe thead th {\n",
       "        text-align: right;\n",
       "    }\n",
       "</style>\n",
       "<table border=\"1\" class=\"dataframe\">\n",
       "  <thead>\n",
       "    <tr style=\"text-align: right;\">\n",
       "      <th></th>\n",
       "      <th>Year</th>\n",
       "      <th>Doctorate recipients</th>\n",
       "      <th>% change from previous year</th>\n",
       "    </tr>\n",
       "  </thead>\n",
       "  <tbody>\n",
       "    <tr>\n",
       "      <th>0</th>\n",
       "      <td>1958</td>\n",
       "      <td>8773</td>\n",
       "      <td>-</td>\n",
       "    </tr>\n",
       "    <tr>\n",
       "      <th>1</th>\n",
       "      <td>1959</td>\n",
       "      <td>9213</td>\n",
       "      <td>5</td>\n",
       "    </tr>\n",
       "    <tr>\n",
       "      <th>2</th>\n",
       "      <td>1960</td>\n",
       "      <td>9733</td>\n",
       "      <td>5.6</td>\n",
       "    </tr>\n",
       "    <tr>\n",
       "      <th>3</th>\n",
       "      <td>1961</td>\n",
       "      <td>10413</td>\n",
       "      <td>7</td>\n",
       "    </tr>\n",
       "    <tr>\n",
       "      <th>4</th>\n",
       "      <td>1962</td>\n",
       "      <td>11500</td>\n",
       "      <td>10.4</td>\n",
       "    </tr>\n",
       "  </tbody>\n",
       "</table>\n",
       "</div>"
      ],
      "text/plain": [
       "   Year  Doctorate recipients % change from previous year\n",
       "0  1958                  8773                           -\n",
       "1  1959                  9213                           5\n",
       "2  1960                  9733                         5.6\n",
       "3  1961                 10413                           7\n",
       "4  1962                 11500                        10.4"
      ]
     },
     "execution_count": 3,
     "metadata": {},
     "output_type": "execute_result"
    }
   ],
   "source": [
    "phd_df.head()"
   ]
  },
  {
   "cell_type": "markdown",
   "metadata": {},
   "source": [
    "It's pretty clear that-- at least in the % change column-- some missing values are listed as \"-\". Since this is a pretty small table, let's just look at the unique values per column and make sure others aren't missing too: "
   ]
  },
  {
   "cell_type": "code",
   "execution_count": 4,
   "metadata": {},
   "outputs": [
    {
     "name": "stdout",
     "output_type": "stream",
     "text": [
      "<bound method Series.unique of 0     1958\n",
      "1     1959\n",
      "2     1960\n",
      "3     1961\n",
      "4     1962\n",
      "5     1963\n",
      "6     1964\n",
      "7     1965\n",
      "8     1966\n",
      "9     1967\n",
      "10    1968\n",
      "11    1969\n",
      "12    1970\n",
      "13    1971\n",
      "14    1972\n",
      "15    1973\n",
      "16    1974\n",
      "17    1975\n",
      "18    1976\n",
      "19    1977\n",
      "20    1978\n",
      "21    1979\n",
      "22    1980\n",
      "23    1981\n",
      "24    1982\n",
      "25    1983\n",
      "26    1984\n",
      "27    1985\n",
      "28    1986\n",
      "29    1987\n",
      "30    1988\n",
      "31    1989\n",
      "32    1990\n",
      "33    1991\n",
      "34    1992\n",
      "35    1993\n",
      "36    1994\n",
      "37    1995\n",
      "38    1996\n",
      "39    1997\n",
      "40    1998\n",
      "41    1999\n",
      "42    2000\n",
      "43    2001\n",
      "44    2002\n",
      "45    2003\n",
      "46    2004\n",
      "47    2005\n",
      "48    2006\n",
      "49    2007\n",
      "50    2008\n",
      "51    2009\n",
      "52    2010\n",
      "53    2011\n",
      "54    2012\n",
      "55    2013\n",
      "56    2014\n",
      "57    2015\n",
      "58    2016\n",
      "59    2017\n",
      "Name: Year, dtype: int64>\n",
      "<bound method Series.unique of 0      8773\n",
      "1      9213\n",
      "2      9733\n",
      "3     10413\n",
      "4     11500\n",
      "5     12728\n",
      "6     14325\n",
      "7     16340\n",
      "8     17949\n",
      "9     20403\n",
      "10    22937\n",
      "11    25743\n",
      "12    29498\n",
      "13    31867\n",
      "14    33041\n",
      "15    33755\n",
      "16    33047\n",
      "17    32952\n",
      "18    32946\n",
      "19    31716\n",
      "20    30875\n",
      "21    31238\n",
      "22    31019\n",
      "23    31355\n",
      "24    31108\n",
      "25    31280\n",
      "26    31334\n",
      "27    31295\n",
      "28    31897\n",
      "29    32365\n",
      "30    33497\n",
      "31    34325\n",
      "32    36065\n",
      "33    37530\n",
      "34    38886\n",
      "35    39800\n",
      "36    41034\n",
      "37    41747\n",
      "38    42437\n",
      "39    42539\n",
      "40    42636\n",
      "41    41100\n",
      "42    41369\n",
      "43    40744\n",
      "44    40031\n",
      "45    40762\n",
      "46    42122\n",
      "47    43385\n",
      "48    45620\n",
      "49    48132\n",
      "50    48777\n",
      "51    49552\n",
      "52    48029\n",
      "53    48911\n",
      "54    50944\n",
      "55    52704\n",
      "56    53992\n",
      "57    54901\n",
      "58    54862\n",
      "59    54664\n",
      "Name: Doctorate recipients, dtype: int64>\n",
      "<bound method Series.unique of 0        -\n",
      "1        5\n",
      "2      5.6\n",
      "3        7\n",
      "4     10.4\n",
      "5     10.7\n",
      "6     12.5\n",
      "7     14.1\n",
      "8      9.8\n",
      "9     13.7\n",
      "10    12.4\n",
      "11    12.2\n",
      "12    14.6\n",
      "13       8\n",
      "14     3.7\n",
      "15     2.2\n",
      "16    -2.1\n",
      "17    -0.3\n",
      "18       *\n",
      "19    -3.7\n",
      "20    -2.7\n",
      "21     1.2\n",
      "22    -0.7\n",
      "23     1.1\n",
      "24    -0.8\n",
      "25     0.6\n",
      "26     0.2\n",
      "27    -0.1\n",
      "28     1.9\n",
      "29     1.5\n",
      "30     3.5\n",
      "31     2.5\n",
      "32     5.1\n",
      "33     4.1\n",
      "34     3.6\n",
      "35     2.4\n",
      "36     3.1\n",
      "37     1.7\n",
      "38     1.7\n",
      "39     0.2\n",
      "40     0.2\n",
      "41    -3.6\n",
      "42     0.7\n",
      "43    -1.5\n",
      "44    -1.7\n",
      "45     1.8\n",
      "46     3.3\n",
      "47       3\n",
      "48     5.2\n",
      "49     5.5\n",
      "50     1.3\n",
      "51     1.6\n",
      "52    -3.1\n",
      "53     1.8\n",
      "54     4.2\n",
      "55     3.5\n",
      "56     2.4\n",
      "57     1.7\n",
      "58    -0.1\n",
      "59    -0.4\n",
      "Name: % change from previous year, dtype: object>\n"
     ]
    },
    {
     "data": {
      "text/plain": [
       "[None, None, None]"
      ]
     },
     "execution_count": 4,
     "metadata": {},
     "output_type": "execute_result"
    }
   ],
   "source": [
    "# look at unique values in each column \n",
    "[print(phd_df[c].unique) for c in list(phd_df.columns)]"
   ]
  },
  {
   "cell_type": "markdown",
   "metadata": {},
   "source": [
    "Seems like the last column has both `-` and `*` values. Just to double check, what rows do these correspond to? "
   ]
  },
  {
   "cell_type": "code",
   "execution_count": 5,
   "metadata": {},
   "outputs": [
    {
     "data": {
      "text/html": [
       "<div>\n",
       "<style scoped>\n",
       "    .dataframe tbody tr th:only-of-type {\n",
       "        vertical-align: middle;\n",
       "    }\n",
       "\n",
       "    .dataframe tbody tr th {\n",
       "        vertical-align: top;\n",
       "    }\n",
       "\n",
       "    .dataframe thead th {\n",
       "        text-align: right;\n",
       "    }\n",
       "</style>\n",
       "<table border=\"1\" class=\"dataframe\">\n",
       "  <thead>\n",
       "    <tr style=\"text-align: right;\">\n",
       "      <th></th>\n",
       "      <th>Year</th>\n",
       "      <th>Doctorate recipients</th>\n",
       "      <th>% change from previous year</th>\n",
       "    </tr>\n",
       "  </thead>\n",
       "  <tbody>\n",
       "    <tr>\n",
       "      <th>0</th>\n",
       "      <td>1958</td>\n",
       "      <td>8773</td>\n",
       "      <td>-</td>\n",
       "    </tr>\n",
       "    <tr>\n",
       "      <th>18</th>\n",
       "      <td>1976</td>\n",
       "      <td>32946</td>\n",
       "      <td>*</td>\n",
       "    </tr>\n",
       "  </tbody>\n",
       "</table>\n",
       "</div>"
      ],
      "text/plain": [
       "    Year  Doctorate recipients % change from previous year\n",
       "0   1958                  8773                           -\n",
       "18  1976                 32946                           *"
      ]
     },
     "execution_count": 5,
     "metadata": {},
     "output_type": "execute_result"
    }
   ],
   "source": [
    "phd_df[phd_df[\"% change from previous year\"].isin([\"*\", \"-\"])]"
   ]
  },
  {
   "cell_type": "markdown",
   "metadata": {},
   "source": [
    "If we look back at the [website](https://ncses.nsf.gov/pubs/nsf19301/data), we see that `-` is the first value and should be `NaN`, but `*` means the values is < 0.05. Since the `*` here is indicative that the value is considered negligible, let's set this `*` value to 0.  "
   ]
  },
  {
   "cell_type": "code",
   "execution_count": 6,
   "metadata": {},
   "outputs": [
    {
     "data": {
      "text/html": [
       "<div>\n",
       "<style scoped>\n",
       "    .dataframe tbody tr th:only-of-type {\n",
       "        vertical-align: middle;\n",
       "    }\n",
       "\n",
       "    .dataframe tbody tr th {\n",
       "        vertical-align: top;\n",
       "    }\n",
       "\n",
       "    .dataframe thead th {\n",
       "        text-align: right;\n",
       "    }\n",
       "</style>\n",
       "<table border=\"1\" class=\"dataframe\">\n",
       "  <thead>\n",
       "    <tr style=\"text-align: right;\">\n",
       "      <th></th>\n",
       "      <th>Year</th>\n",
       "      <th>Doctorate recipients</th>\n",
       "      <th>% change from previous year</th>\n",
       "    </tr>\n",
       "  </thead>\n",
       "  <tbody>\n",
       "    <tr>\n",
       "      <th>0</th>\n",
       "      <td>1958</td>\n",
       "      <td>8773</td>\n",
       "      <td>NaN</td>\n",
       "    </tr>\n",
       "    <tr>\n",
       "      <th>18</th>\n",
       "      <td>1976</td>\n",
       "      <td>32946</td>\n",
       "      <td>0.0</td>\n",
       "    </tr>\n",
       "  </tbody>\n",
       "</table>\n",
       "</div>"
      ],
      "text/plain": [
       "    Year  Doctorate recipients  % change from previous year\n",
       "0   1958                  8773                          NaN\n",
       "18  1976                 32946                          0.0"
      ]
     },
     "execution_count": 6,
     "metadata": {},
     "output_type": "execute_result"
    }
   ],
   "source": [
    "phd_df = phd_df.replace({\"*\": 0, \"-\": np.nan})\n",
    "\n",
    "# check\n",
    "phd_df.iloc[[0,18],:]"
   ]
  },
  {
   "cell_type": "markdown",
   "metadata": {},
   "source": [
    "## 2. Basic exploration & analysis \n",
    "\n",
    "To me, it makes sense to start by plotting the data as is. Let's begin by just looking at doctorate recipients over time: "
   ]
  },
  {
   "cell_type": "code",
   "execution_count": 7,
   "metadata": {},
   "outputs": [
    {
     "data": {
      "text/plain": [
       "<AxesSubplot:xlabel='Year'>"
      ]
     },
     "execution_count": 7,
     "metadata": {},
     "output_type": "execute_result"
    },
    {
     "data": {
      "image/png": "[encoded data removed]",
      "text/plain": [
       "<Figure size 432x288 with 1 Axes>"
      ]
     },
     "metadata": {
      "needs_background": "light"
     },
     "output_type": "display_data"
    }
   ],
   "source": [
    "phd_df.plot.line(x=\"Year\", y=\"Doctorate recipients\")"
   ]
  },
  {
   "cell_type": "markdown",
   "metadata": {},
   "source": [
    "It's clearly grown considerably over time. Has % change also increased? "
   ]
  },
  {
   "cell_type": "code",
   "execution_count": 8,
   "metadata": {},
   "outputs": [
    {
     "data": {
      "text/plain": [
       "<AxesSubplot:xlabel='Year'>"
      ]
     },
     "execution_count": 8,
     "metadata": {},
     "output_type": "execute_result"
    },
    {
     "data": {
      "image/png": "[encoded data removed]",
      "text/plain": [
       "<Figure size 432x288 with 1 Axes>"
      ]
     },
     "metadata": {
      "needs_background": "light"
     },
     "output_type": "display_data"
    }
   ],
   "source": [
    "phd_df.plot.line(x=\"Year\", y=\"% change from previous year\")"
   ]
  },
  {
   "cell_type": "markdown",
   "metadata": {},
   "source": [
    "There's definitely a lot more variability here; it almost seems like it might be interesting to look at the average numbers within each decade represented. Let's add a column for decade and do that:"
   ]
  },
  {
   "cell_type": "code",
   "execution_count": 9,
   "metadata": {},
   "outputs": [],
   "source": [
    "phd_df[\"decade\"] = [int(np.floor(i / 10) * 10) for i in phd_df[\"Year\"]]"
   ]
  },
  {
   "cell_type": "code",
   "execution_count": 10,
   "metadata": {},
   "outputs": [
    {
     "data": {
      "text/html": [
       "<div>\n",
       "<style scoped>\n",
       "    .dataframe tbody tr th:only-of-type {\n",
       "        vertical-align: middle;\n",
       "    }\n",
       "\n",
       "    .dataframe tbody tr th {\n",
       "        vertical-align: top;\n",
       "    }\n",
       "\n",
       "    .dataframe thead th {\n",
       "        text-align: right;\n",
       "    }\n",
       "</style>\n",
       "<table border=\"1\" class=\"dataframe\">\n",
       "  <thead>\n",
       "    <tr style=\"text-align: right;\">\n",
       "      <th></th>\n",
       "      <th>Year</th>\n",
       "      <th>Doctorate recipients</th>\n",
       "      <th>% change from previous year</th>\n",
       "    </tr>\n",
       "    <tr>\n",
       "      <th>decade</th>\n",
       "      <th></th>\n",
       "      <th></th>\n",
       "      <th></th>\n",
       "    </tr>\n",
       "  </thead>\n",
       "  <tbody>\n",
       "    <tr>\n",
       "      <th>1950</th>\n",
       "      <td>1958.5</td>\n",
       "      <td>8993.000</td>\n",
       "      <td>5.00</td>\n",
       "    </tr>\n",
       "    <tr>\n",
       "      <th>1960</th>\n",
       "      <td>1964.5</td>\n",
       "      <td>16207.100</td>\n",
       "      <td>10.84</td>\n",
       "    </tr>\n",
       "    <tr>\n",
       "      <th>1970</th>\n",
       "      <td>1974.5</td>\n",
       "      <td>32093.500</td>\n",
       "      <td>2.09</td>\n",
       "    </tr>\n",
       "    <tr>\n",
       "      <th>1980</th>\n",
       "      <td>1984.5</td>\n",
       "      <td>31947.500</td>\n",
       "      <td>0.97</td>\n",
       "    </tr>\n",
       "    <tr>\n",
       "      <th>1990</th>\n",
       "      <td>1994.5</td>\n",
       "      <td>40377.400</td>\n",
       "      <td>1.85</td>\n",
       "    </tr>\n",
       "    <tr>\n",
       "      <th>2000</th>\n",
       "      <td>2004.5</td>\n",
       "      <td>44049.400</td>\n",
       "      <td>1.92</td>\n",
       "    </tr>\n",
       "    <tr>\n",
       "      <th>2010</th>\n",
       "      <td>2013.5</td>\n",
       "      <td>52375.875</td>\n",
       "      <td>1.25</td>\n",
       "    </tr>\n",
       "  </tbody>\n",
       "</table>\n",
       "</div>"
      ],
      "text/plain": [
       "          Year  Doctorate recipients  % change from previous year\n",
       "decade                                                           \n",
       "1950    1958.5              8993.000                         5.00\n",
       "1960    1964.5             16207.100                        10.84\n",
       "1970    1974.5             32093.500                         2.09\n",
       "1980    1984.5             31947.500                         0.97\n",
       "1990    1994.5             40377.400                         1.85\n",
       "2000    2004.5             44049.400                         1.92\n",
       "2010    2013.5             52375.875                         1.25"
      ]
     },
     "execution_count": 10,
     "metadata": {},
     "output_type": "execute_result"
    }
   ],
   "source": [
    "(\n",
    "    phd_df.\n",
    "    groupby(\"decade\").\n",
    "    mean()\n",
    ")"
   ]
  },
  {
   "cell_type": "markdown",
   "metadata": {},
   "source": [
    "Consistent with above, we see that the 1960's had the most change in PhDs awarded and the mean by decade is steadily increasing over time. \n",
    "\n",
    "Let's write this cleaned data to a file, and continue with making a basic dashboard:"
   ]
  },
  {
   "cell_type": "code",
   "execution_count": 11,
   "metadata": {},
   "outputs": [],
   "source": [
    "phd_df.to_csv(\"../assets/tsv/cleaned_US_phds_awarded_by_year.tsv\", sep=\"\\t\")"
   ]
  }
 ],
 "metadata": {
  "kernelspec": {
   "display_name": "Python 3",
   "language": "python",
   "name": "python3"
  },
  "language_info": {
   "codemirror_mode": {
    "name": "ipython",
    "version": 3
   },
   "file_extension": ".py",
   "mimetype": "text/x-python",
   "name": "python",
   "nbconvert_exporter": "python",
   "pygments_lexer": "ipython3",
   "version": "3.7.5"
  }
 },
 "nbformat": 4,
 "nbformat_minor": 4
}
