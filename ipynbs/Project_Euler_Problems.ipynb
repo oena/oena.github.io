{
 "cells": [
  {
   "cell_type": "markdown",
   "metadata": {},
   "source": [
    "# Project Euler Problems\n",
    "\n",
    "Oana Enache\n",
    "\n",
    "September 11th, 2020\n",
    "\n",
    "---------------\n",
    "\n",
    "## Table of Contents\n",
    "\n",
    "### Problem 1 \n",
    "\n",
    "### Problem 2\n",
    "\n",
    "### Problem 3\n",
    "\n",
    "----------------"
   ]
  },
  {
   "cell_type": "markdown",
   "metadata": {},
   "source": [
    "# Problem 1 \n",
    "\n",
    "**Problem 7**: By listing the first six prime numbers: 2, 3, 5, 7, 11, and 13, we can see that the 6th prime is 13. What is the 10, 001st prime number? [link to Project Euler here](https://projecteuler.net/problem=7). \n",
    "\n",
    "This problem was solved by fewer than 500,000 people. \n",
    "\n",
    "Useful links (for blog post later): \n",
    "- https://stackoverflow.com/questions/2211990/how-to-implement-an-efficient-infinite-generator-of-prime-numbers-in-python\n",
    "- https://math.stackexchange.com/questions/1270814/bounds-for-n-th-prime\n",
    "- https://stackoverflow.com/questions/231767/what-does-the-yield-keyword-do\n",
    "- https://www.khanacademy.org/computing/computer-science/cryptography/comp-number-theory/a/trial-division"
   ]
  },
  {
   "cell_type": "code",
   "execution_count": 1,
   "metadata": {},
   "outputs": [],
   "source": [
    "from itertools import count"
   ]
  },
  {
   "cell_type": "code",
   "execution_count": 2,
   "metadata": {},
   "outputs": [],
   "source": [
    "def generate_primes():\n",
    "    \"\"\"\n",
    "    Generates primes by adding odd numbers & their squares. \n",
    "    \"\"\"\n",
    "    prime_list = [2] # 2 is the only even prime, so just add it \n",
    "    list_index = 0 \n",
    "    \n",
    "    yield 2\n",
    "    \n",
    "    for i in count(3,2):\n",
    "        is_prime = True\n",
    "        for number in prime_list: \n",
    "            if i % number == 0: \n",
    "                is_prime = False\n",
    "                break\n",
    "            elif number**2 > i:\n",
    "                break\n",
    "        if is_prime:\n",
    "            prime_list.append(i)\n",
    "            yield i"
   ]
  },
  {
   "cell_type": "code",
   "execution_count": 3,
   "metadata": {},
   "outputs": [],
   "source": [
    "def get_nth_prime(n):\n",
    "    \"\"\"\n",
    "    TODO\n",
    "    \"\"\"\n",
    "    if n < 1: \n",
    "        raise ValueError(\"nth prime specified must be 1 or greater!\")\n",
    "    for i,p in enumerate(generate_primes(),1):\n",
    "        if i == n:\n",
    "            return p"
   ]
  },
  {
   "cell_type": "code",
   "execution_count": 4,
   "metadata": {},
   "outputs": [
    {
     "data": {
      "text/plain": [
       "104743"
      ]
     },
     "execution_count": 4,
     "metadata": {},
     "output_type": "execute_result"
    }
   ],
   "source": [
    "get_nth_prime(10001)"
   ]
  },
  {
   "cell_type": "markdown",
   "metadata": {},
   "source": [
    "## Problem 2 \n",
    "\n",
    "**Problem 34:** 145 is a curious number, as 1! + 4! + 5! = 1 + 24 + 120 = 145. Find the sum of all numbers which are equal to the sum of the factorial of their digits. Note: As 1! = 1 and 2! = 2 are not sums they are not included.\n",
    "\n",
    "This problem was solved by fewer than 100,000 people. \n",
    "\n",
    "Thoughts: \n",
    "- Method to sum factorials\n",
    "- Clearly starting with 10 because all single digits don't sum to themselves\n",
    "- Need an upper limit; use Wikipedia -- https://en.wikipedia.org/wiki/Factorion\n",
    "- helpful other blog post - https://blog.dreamshire.com/project-euler-34-solution/"
   ]
  },
  {
   "cell_type": "code",
   "execution_count": 27,
   "metadata": {},
   "outputs": [],
   "source": [
    "from math import factorial"
   ]
  },
  {
   "cell_type": "code",
   "execution_count": 28,
   "metadata": {},
   "outputs": [],
   "source": [
    "def factorial_sum(n):\n",
    "    \"\"\"\n",
    "    Helper function to calculate the sum of the factorial of n's digits. \n",
    "    \"\"\"\n",
    "    digits = [int(i) for i in str(n)]\n",
    "    factorials = [factorial(d) for d in digits]\n",
    "    return sum(factorials)"
   ]
  },
  {
   "cell_type": "code",
   "execution_count": 29,
   "metadata": {},
   "outputs": [],
   "source": [
    "def sum_of_all_factorions(): \n",
    "    lower_limit = 10\n",
    "    upper_limit = 1500000\n",
    "    return sum([n for n in range(lower_limit, upper_limit) if n == factorial_sum(n)])"
   ]
  },
  {
   "cell_type": "code",
   "execution_count": 30,
   "metadata": {},
   "outputs": [
    {
     "data": {
      "text/plain": [
       "40730"
      ]
     },
     "execution_count": 30,
     "metadata": {},
     "output_type": "execute_result"
    }
   ],
   "source": [
    "sum_of_all_factorions()"
   ]
  },
  {
   "cell_type": "markdown",
   "metadata": {},
   "source": [
    "## Problem 3 \n",
    "\n",
    "70 coloured balls are placed in an urn, 10 for each of the seven rainbow colours. What is the expected number of distinct colours in 20 randomly picked balls? Give your answer with nine digits after the decimal point (a.bcdefghij).\n",
    "\n",
    "This problem was solved by fewer than 25,000 people.\n",
    "\n",
    "Notes:\n",
    "- A stats question. \n",
    "- For each color (say, red) the Pr(red is drawn at least once) = 1 - Pr(red is never drawn) = 1 - (60 choose 20)/(70 choose 20)\n",
    "- Then, by linearity of expectation E(distinct colors) = 7* E (one color) = 7*(1- (60 choose 20)/(70 choose 20)\n",
    "- Nice explanation more generally: https://math.stackexchange.com/questions/1175295/urn-problem-probability-of-drawing-balls-of-k-unique-colors"
   ]
  },
  {
   "cell_type": "code",
   "execution_count": 34,
   "metadata": {},
   "outputs": [],
   "source": [
    "from scipy.special import comb"
   ]
  },
  {
   "cell_type": "code",
   "execution_count": 37,
   "metadata": {},
   "outputs": [
    {
     "data": {
      "text/plain": [
       "15"
      ]
     },
     "execution_count": 37,
     "metadata": {},
     "output_type": "execute_result"
    }
   ],
   "source": [
    "comb(6,4, exact=True)"
   ]
  },
  {
   "cell_type": "code",
   "execution_count": 40,
   "metadata": {},
   "outputs": [],
   "source": [
    "def expected_number_of_distinct_colors(color_count,\n",
    "                                          balls_per_color,\n",
    "                                          balls_picked):\n",
    "    \"\"\"\n",
    "    TODO\n",
    "    \"\"\"\n",
    "    total_balls = color_count * balls_per_color\n",
    "    expectation = color_count * (1 - comb(total_balls - balls_per_color,\\\n",
    "                                  balls_picked)/comb(total_balls,balls_picked))\n",
    "    return(round(expectation,9))"
   ]
  },
  {
   "cell_type": "code",
   "execution_count": 41,
   "metadata": {},
   "outputs": [
    {
     "data": {
      "text/plain": [
       "6.818741802"
      ]
     },
     "execution_count": 41,
     "metadata": {},
     "output_type": "execute_result"
    }
   ],
   "source": [
    "expected_number_of_distinct_colors(7, 10, 20)"
   ]
  }
 ],
 "metadata": {
  "kernelspec": {
   "display_name": "Python 3",
   "language": "python",
   "name": "python3"
  },
  "language_info": {
   "codemirror_mode": {
    "name": "ipython",
    "version": 3
   },
   "file_extension": ".py",
   "mimetype": "text/x-python",
   "name": "python",
   "nbconvert_exporter": "python",
   "pygments_lexer": "ipython3",
   "version": "3.7.5"
  }
 },
 "nbformat": 4,
 "nbformat_minor": 2
}
