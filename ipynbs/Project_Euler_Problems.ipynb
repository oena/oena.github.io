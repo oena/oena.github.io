{
 "cells": [
  {
   "cell_type": "markdown",
   "metadata": {},
   "source": [
    "# Project Euler Problems\n",
    "\n",
    "Oana Enache\n",
    "\n",
    "September 11th, 2020\n",
    "\n",
    "---------------"
   ]
  },
  {
   "cell_type": "markdown",
   "metadata": {},
   "source": [
    "# Problem 1 \n",
    "\n",
    "**Problem 7**: By listing the first six prime numbers: 2, 3, 5, 7, 11, and 13, we can see that the 6th prime is 13. What is the 10, 001st prime number? [link to Project Euler here](https://projecteuler.net/problem=7). \n",
    "\n",
    "This problem was solved by fewer than 500,000 people. "
   ]
  },
  {
   "cell_type": "code",
   "execution_count": 2,
   "metadata": {},
   "outputs": [],
   "source": [
    "from itertools import count"
   ]
  },
  {
   "cell_type": "code",
   "execution_count": 3,
   "metadata": {},
   "outputs": [],
   "source": [
    "def generate_primes():\n",
    "    \"\"\"Generator of prime numbers using trial division alagorithm. \n",
    "    \n",
    "    This method is a generator of prime numbers using consecutive odd \n",
    "    numbers and taking advantage of trial division. \n",
    "    \n",
    "    \n",
    "    Parameters\n",
    "    ----------\n",
    "    None. \n",
    "    \n",
    "    Returns\n",
    "    -------\n",
    "    A generator of prime values. \n",
    "    \n",
    "    References\n",
    "    ----------\n",
    "    1. About trial division: \n",
    "        https://primes.utm.edu/glossary/page.php?sort=TrialDivision\n",
    "    \"\"\"\n",
    "    prime_list = [2] # 2 is the only even prime, so just add it \n",
    "    \n",
    "    yield 2\n",
    "    \n",
    "    for i in count(3,2):\n",
    "        is_prime = True\n",
    "        for number in prime_list: \n",
    "            if i % number == 0: \n",
    "                is_prime = False\n",
    "                break\n",
    "            elif number**2 > i:\n",
    "                break\n",
    "        if is_prime:\n",
    "            prime_list.append(i)\n",
    "            yield i"
   ]
  },
  {
   "cell_type": "code",
   "execution_count": 4,
   "metadata": {},
   "outputs": [],
   "source": [
    "def get_nth_prime(n):\n",
    "    \"\"\"Returns the corresponding prime with specified index. \n",
    "    \n",
    "    This method uses the generate_prime() levels along with a \n",
    "    user-specified upper bound (n) to identify the nth prime. \n",
    "    \n",
    "    Parameters\n",
    "    ----------\n",
    "    n: int \n",
    "        The nth prime to return \n",
    "        \n",
    "    Raises\n",
    "    ------\n",
    "    ValueError (if n < 1): Primes can not be 0 or negative.\n",
    "    \n",
    "    Returns \n",
    "    -------\n",
    "    The nth prime number. \n",
    "    \"\"\"\n",
    "    if n < 1: \n",
    "        raise ValueError(\"nth prime specified must be 1 or greater!\")\n",
    "    for i,p in enumerate(generate_primes(),1):\n",
    "        if i == n:\n",
    "            return p"
   ]
  },
  {
   "cell_type": "code",
   "execution_count": 5,
   "metadata": {},
   "outputs": [
    {
     "data": {
      "text/plain": [
       "104743"
      ]
     },
     "execution_count": 5,
     "metadata": {},
     "output_type": "execute_result"
    }
   ],
   "source": [
    "get_nth_prime(10001)"
   ]
  },
  {
   "cell_type": "markdown",
   "metadata": {},
   "source": [
    "## Problem 2 \n",
    "\n",
    "**Problem 34:** 145 is a curious number, as 1! + 4! + 5! = 1 + 24 + 120 = 145. Find the sum of all numbers which are equal to the sum of the factorial of their digits. Note: As 1! = 1 and 2! = 2 are not sums they are not included.\n",
    "\n",
    "This problem was solved by fewer than 100,000 people. "
   ]
  },
  {
   "cell_type": "code",
   "execution_count": 27,
   "metadata": {},
   "outputs": [],
   "source": [
    "from math import factorial"
   ]
  },
  {
   "cell_type": "code",
   "execution_count": 28,
   "metadata": {},
   "outputs": [],
   "source": [
    "def factorial_sum(n):\n",
    "    \"\"\"Calculates the sum of the factorials of a given number's digits. \n",
    "    \n",
    "    Parameters\n",
    "    ----------\n",
    "    n: int \n",
    "        The number whose digits' factorials are to be summed.\n",
    "    \n",
    "    Returns\n",
    "    -------\n",
    "    Sum of the factorials of each of n's digits. \n",
    "    \"\"\"\n",
    "    digits = [int(i) for i in str(n)]\n",
    "    factorials = [factorial(d) for d in digits]\n",
    "    return sum(factorials)"
   ]
  },
  {
   "cell_type": "code",
   "execution_count": 29,
   "metadata": {},
   "outputs": [],
   "source": [
    "def sum_of_all_factorions(): \n",
    "    \"\"\"Calculates the sum of all factorions. \n",
    "    \n",
    "    Factorions are numbers which are equal to the sum of the factorial\n",
    "    of their digits. This method takes advantage of a proposed upper \n",
    "    bound found on the Wikipedia page for Factorions (see references)\n",
    "    \n",
    "    Parameters\n",
    "    ----------\n",
    "    None.\n",
    "    \n",
    "    Returns\n",
    "    -------\n",
    "    Sum of all factorions. \n",
    "    \n",
    "    References\n",
    "    ----------\n",
    "    1. Wikipedia page on factorions\n",
    "        https://en.wikipedia.org/wiki/Factorion\n",
    "    \"\"\"\n",
    "    lower_limit = 10\n",
    "    upper_limit = 1500000\n",
    "    return sum([n for n in range(lower_limit, upper_limit) if n == factorial_sum(n)])"
   ]
  },
  {
   "cell_type": "code",
   "execution_count": 30,
   "metadata": {},
   "outputs": [
    {
     "data": {
      "text/plain": [
       "40730"
      ]
     },
     "execution_count": 30,
     "metadata": {},
     "output_type": "execute_result"
    }
   ],
   "source": [
    "sum_of_all_factorions()"
   ]
  },
  {
   "cell_type": "markdown",
   "metadata": {},
   "source": [
    "## Problem 3 \n",
    "\n",
    "70 coloured balls are placed in an urn, 10 for each of the seven rainbow colours. What is the expected number of distinct colours in 20 randomly picked balls? Give your answer with nine digits after the decimal point (a.bcdefghij).\n",
    "\n",
    "This problem was solved by fewer than 25,000 people."
   ]
  },
  {
   "cell_type": "code",
   "execution_count": 8,
   "metadata": {},
   "outputs": [],
   "source": [
    "from scipy.special import comb"
   ]
  },
  {
   "cell_type": "code",
   "execution_count": 9,
   "metadata": {},
   "outputs": [],
   "source": [
    "def expected_number_of_distinct_colors(color_count=7,\n",
    "                                          balls_per_color=10,\n",
    "                                          balls_picked=20):\n",
    "    \"\"\"Calculates the expected number of distinct colors from urn.\n",
    "    \n",
    "    Assumes (color count * balls_per_color) balls are \n",
    "    placed in an urn/box, and calculates the expected number of distint colors\n",
    "    for balls_picked number of balls.  \n",
    "    \n",
    "    Parameters\n",
    "    ----------\n",
    "    - color_count: int\n",
    "        The number of distinct colors. \n",
    "        Default is 7, the number specified by Project Euler.\n",
    "        \n",
    "    - balls_per_color: int\n",
    "        The number of balls per color put in the urn. \n",
    "        Default is 10, the number specified by Project Euler.\n",
    "        \n",
    "    - balls_picked: int\n",
    "        The number of balls picked out of the urn.\n",
    "        Default is 20, the number specified by Project Euler.  \n",
    "        \n",
    "    Raises\n",
    "    ------\n",
    "    ValueError (if balls_picked > color_count*balls_per_color): \n",
    "        You can't pick more balls than there are in the urn. \n",
    "    \n",
    "    Returns\n",
    "    -------\n",
    "    Expected number of distint colors in balls_picked number of balls,\n",
    "    rounded to 9 decimal places (as specified by Project Euler).\n",
    "    \"\"\"\n",
    "    if balls_picked > color_count*balls_per_color: \n",
    "        raise ValueError(\"Number of balls picked needs to be less \\\n",
    "            than total number of balls!\")\n",
    "    total_balls = color_count * balls_per_color\n",
    "    expectation = color_count * (1 - comb(total_balls - balls_per_color,\\\n",
    "                                  balls_picked)/comb(total_balls,balls_picked))\n",
    "    return(round(expectation,9))"
   ]
  },
  {
   "cell_type": "code",
   "execution_count": 10,
   "metadata": {},
   "outputs": [
    {
     "data": {
      "text/plain": [
       "6.818741802"
      ]
     },
     "execution_count": 10,
     "metadata": {},
     "output_type": "execute_result"
    }
   ],
   "source": [
    "expected_number_of_distinct_colors()"
   ]
  }
 ],
 "metadata": {
  "kernelspec": {
   "display_name": "Python 3",
   "language": "python",
   "name": "python3"
  },
  "language_info": {
   "codemirror_mode": {
    "name": "ipython",
    "version": 3
   },
   "file_extension": ".py",
   "mimetype": "text/x-python",
   "name": "python",
   "nbconvert_exporter": "python",
   "pygments_lexer": "ipython3",
   "version": "3.7.5"
  }
 },
 "nbformat": 4,
 "nbformat_minor": 2
}
